{
  "nbformat": 4,
  "nbformat_minor": 0,
  "metadata": {
    "kernelspec": {
      "display_name": "Python 3",
      "language": "python",
      "name": "python3"
    },
    "language_info": {
      "codemirror_mode": {
        "name": "ipython",
        "version": 3
      },
      "file_extension": ".py",
      "mimetype": "text/x-python",
      "name": "python",
      "nbconvert_exporter": "python",
      "pygments_lexer": "ipython3",
      "version": "3.7.4"
    },
    "colab": {
      "name": "The Battle of Neighborhoods - Part 2.ipynb",
      "provenance": []
    }
  },
  "cells": [
    {
      "cell_type": "markdown",
      "metadata": {
        "collapsed": true,
        "id": "lDxX663SMgai"
      },
      "source": [
        "# <center> **THE BATTLE OF NEIGHBORHOODS** </center>\n",
        "\n",
        "#### Author: Jinnajate Achalapong"
      ]
    },
    {
      "cell_type": "markdown",
      "metadata": {
        "id": "2dlNn0cdMgak"
      },
      "source": [
        "# Introduction:"
      ]
    },
    {
      "cell_type": "markdown",
      "metadata": {
        "id": "LRPPlp-SMgam"
      },
      "source": [
        "New York City's demographics show that it is a large and ethnically diverse metropolis. With it's diverse culture , comes diverse food items. There are many resturants in New york City, each beloning to different categories like Chinese, Thai, Indian, French etc.\n",
        "\n",
        "So as part of this project , we will list and visualize all major parts of New York City that has great Thai resturants."
      ]
    },
    {
      "cell_type": "markdown",
      "metadata": {
        "id": "aXjpEs7GMgao"
      },
      "source": [
        "# Data:"
      ]
    },
    {
      "cell_type": "markdown",
      "metadata": {
        "id": "OFxxlUhAMgap"
      },
      "source": [
        "For this project we need the following data:\n",
        "1. New York City data that contains list Boroughs, Neighborhoods along with their latitude and longitude.\n",
        "2. Thai resturants in each neighborhood of new york city.\n",
        "3. GeoSpace data"
      ]
    },
    {
      "cell_type": "markdown",
      "metadata": {
        "id": "ZpHjxyqUMgar"
      },
      "source": [
        "## Questions that will be answers at the end of this project :"
      ]
    },
    {
      "cell_type": "markdown",
      "metadata": {
        "id": "FKaeaZKwMgas"
      },
      "source": [
        "### 1. What are best location in New York City for Thai Cuisine?\n",
        "### 2. Which areas have potential Thai Restaurant Market?\n",
        "### 3. Which all areas lack Thai Restaurants?\n",
        "### 4. Which is the best place to stay if you prefer Thai Cuisine?"
      ]
    },
    {
      "cell_type": "markdown",
      "metadata": {
        "id": "a7lXUOjZMgau"
      },
      "source": [
        "# Methodology:"
      ]
    },
    {
      "cell_type": "markdown",
      "metadata": {
        "id": "cMob6DjCMgaw"
      },
      "source": [
        "1. We begin by collecting the New York city data from \"https://cocl.us/new_york_dataset\".\n",
        "2. We will find all venues for each neighborhood using FourSquare API.\n",
        "3. We will then filter out all Thai Restuarant venues.\n",
        "4. Next using FourSquare API, we will find the Ratings, Tips, and Like count for all the Thai Resturants.\n",
        "5. Next we will sort the data keeping Ratings as the constraint.\n",
        "6. Finally, we will visualize the Ranking of neighborhoods using python's Folium library."
      ]
    },
    {
      "cell_type": "markdown",
      "metadata": {
        "id": "Xkn_872kMgax"
      },
      "source": [
        "Lets Start by importing the required Libraries."
      ]
    },
    {
      "cell_type": "code",
      "metadata": {
        "id": "y4AzOIUGMgaz",
        "colab": {
          "base_uri": "https://localhost:8080/"
        },
        "outputId": "b73546ca-b481-42cc-cd83-d1f62491c2f6"
      },
      "source": [
        "import pandas as pd\n",
        "import numpy as np\n",
        "pd.set_option('display.max_columns', None)\n",
        "pd.set_option('display.max_rows', None)\n",
        "import requests\n",
        "from bs4 import BeautifulSoup\n",
        "!pip install geocoder\n",
        "import geocoder\n",
        "import os\n",
        "#!pip install folium\n",
        "import folium # map rendering library\n",
        "from geopy.geocoders import Nominatim # convert an address into latitude and longitude values\n",
        "# Matplotlib and associated plotting modules\n",
        "import matplotlib.pyplot as plt\n",
        "import matplotlib.cm as cm\n",
        "import matplotlib.colors as colors\n",
        "%matplotlib inline\n",
        "\n",
        "\n",
        "print('Libraries imported.')"
      ],
      "execution_count": 2,
      "outputs": [
        {
          "output_type": "stream",
          "text": [
            "Collecting geocoder\n",
            "\u001b[?25l  Downloading https://files.pythonhosted.org/packages/4f/6b/13166c909ad2f2d76b929a4227c952630ebaf0d729f6317eb09cbceccbab/geocoder-1.38.1-py2.py3-none-any.whl (98kB)\n",
            "\r\u001b[K     |███▎                            | 10kB 14.1MB/s eta 0:00:01\r\u001b[K     |██████▋                         | 20kB 20.4MB/s eta 0:00:01\r\u001b[K     |██████████                      | 30kB 24.8MB/s eta 0:00:01\r\u001b[K     |█████████████▎                  | 40kB 22.8MB/s eta 0:00:01\r\u001b[K     |████████████████▋               | 51kB 16.6MB/s eta 0:00:01\r\u001b[K     |████████████████████            | 61kB 13.6MB/s eta 0:00:01\r\u001b[K     |███████████████████████▎        | 71kB 12.2MB/s eta 0:00:01\r\u001b[K     |██████████████████████████▋     | 81kB 13.0MB/s eta 0:00:01\r\u001b[K     |██████████████████████████████  | 92kB 13.2MB/s eta 0:00:01\r\u001b[K     |████████████████████████████████| 102kB 7.0MB/s \n",
            "\u001b[?25hRequirement already satisfied: future in /usr/local/lib/python3.7/dist-packages (from geocoder) (0.16.0)\n",
            "Collecting ratelim\n",
            "  Downloading https://files.pythonhosted.org/packages/f2/98/7e6d147fd16a10a5f821db6e25f192265d6ecca3d82957a4fdd592cad49c/ratelim-0.1.6-py2.py3-none-any.whl\n",
            "Requirement already satisfied: six in /usr/local/lib/python3.7/dist-packages (from geocoder) (1.15.0)\n",
            "Requirement already satisfied: requests in /usr/local/lib/python3.7/dist-packages (from geocoder) (2.23.0)\n",
            "Requirement already satisfied: click in /usr/local/lib/python3.7/dist-packages (from geocoder) (7.1.2)\n",
            "Requirement already satisfied: decorator in /usr/local/lib/python3.7/dist-packages (from ratelim->geocoder) (4.4.2)\n",
            "Requirement already satisfied: certifi>=2017.4.17 in /usr/local/lib/python3.7/dist-packages (from requests->geocoder) (2021.5.30)\n",
            "Requirement already satisfied: idna<3,>=2.5 in /usr/local/lib/python3.7/dist-packages (from requests->geocoder) (2.10)\n",
            "Requirement already satisfied: chardet<4,>=3.0.2 in /usr/local/lib/python3.7/dist-packages (from requests->geocoder) (3.0.4)\n",
            "Requirement already satisfied: urllib3!=1.25.0,!=1.25.1,<1.26,>=1.21.1 in /usr/local/lib/python3.7/dist-packages (from requests->geocoder) (1.24.3)\n",
            "Installing collected packages: ratelim, geocoder\n",
            "Successfully installed geocoder-1.38.1 ratelim-0.1.6\n",
            "Libraries imported.\n"
          ],
          "name": "stdout"
        }
      ]
    },
    {
      "cell_type": "markdown",
      "metadata": {
        "id": "bSAbrJr_Mga1"
      },
      "source": [
        "Now we define a function to get the geocodes i.e latitude and longitude of a given location using geopy."
      ]
    },
    {
      "cell_type": "code",
      "metadata": {
        "id": "D2bMGC8iMga2"
      },
      "source": [
        "def geo_location(address):\n",
        "    # get geo location of address\n",
        "    geolocator = Nominatim(user_agent=\"ny_explorer\")\n",
        "    location = geolocator.geocode(address)\n",
        "    latitude = location.latitude\n",
        "    longitude = location.longitude\n",
        "    return latitude,longitude"
      ],
      "execution_count": 3,
      "outputs": []
    },
    {
      "cell_type": "markdown",
      "metadata": {
        "id": "rxxlBRKuMga4"
      },
      "source": [
        "We define a function to intract with FourSquare API and get top 100 venues within a radius of 1000 metres for a given latitude and longitude. Below function will return us the venue id , venue name and category."
      ]
    },
    {
      "cell_type": "code",
      "metadata": {
        "id": "9oE8MIB9Mga5"
      },
      "source": [
        "def get_venues(lat,lng):\n",
        "    \n",
        "    #set variables\n",
        "    radius=1000\n",
        "    LIMIT=100\n",
        "    CLIENT_ID = \"AIFDBMJ5WQKT3DQSPA3ONC3SI5MRSR5U131ZCWMKB4U1XSI4\" # Foursquare ID\n",
        "    CLIENT_SECRET = \"XODRBQPF0BRBI4A24CMR0D5THBTQTIIMY5XICASWSNAFA3CM\" # Foursquare Secret\n",
        "    VERSION = '20200401' # Foursquare API version\n",
        "    \n",
        "    #url to fetch data from foursquare api\n",
        "    url = 'https://api.foursquare.com/v2/venues/explore?&client_id={}&client_secret={}&v={}&ll={},{}&radius={}&limit={}'.format(\n",
        "            CLIENT_ID, \n",
        "            CLIENT_SECRET, \n",
        "            VERSION, \n",
        "            lat, \n",
        "            lng, \n",
        "            radius, \n",
        "            LIMIT)\n",
        "    \n",
        "    # get all the data\n",
        "    results = requests.get(url).json()\n",
        "    venue_data=results[\"response\"]['groups'][0]['items']\n",
        "    venue_details=[]\n",
        "    for row in venue_data:\n",
        "        try:\n",
        "            venue_id=row['venue']['id']\n",
        "            venue_name=row['venue']['name']\n",
        "            venue_category=row['venue']['categories'][0]['name']\n",
        "            venue_details.append([venue_id,venue_name,venue_category])\n",
        "        except KeyError:\n",
        "            pass\n",
        "        \n",
        "    column_names=['ID','Name','Category']\n",
        "    df = pd.DataFrame(venue_details,columns=column_names)\n",
        "    return df"
      ],
      "execution_count": 4,
      "outputs": []
    },
    {
      "cell_type": "markdown",
      "metadata": {
        "id": "HNDCjG1EMga7"
      },
      "source": [
        "Now we will define a function to get venue details like like count , rating , tip counts for a given venue id. This will be used for ranking."
      ]
    },
    {
      "cell_type": "code",
      "metadata": {
        "id": "_ZL6l3teMga8"
      },
      "source": [
        "def get_venue_details(venue_id):\n",
        "        \n",
        "    CLIENT_ID = \"AIFDBMJ5WQKT3DQSPA3ONC3SI5MRSR5U131ZCWMKB4U1XSI4\" # your Foursquare ID\n",
        "    CLIENT_SECRET = \"XODRBQPF0BRBI4A24CMR0D5THBTQTIIMY5XICASWSNAFA3CM\" # your Foursquare Secret\n",
        "    VERSION = '20200401' # Foursquare API version\n",
        "    \n",
        "    #url to fetch data from foursquare api\n",
        "    url = 'https://api.foursquare.com/v2/venues/{}?&client_id={}&client_secret={}&v={}'.format(\n",
        "            venue_id,\n",
        "            CLIENT_ID, \n",
        "            CLIENT_SECRET, \n",
        "            VERSION)\n",
        "    \n",
        "    # get all the data\n",
        "    results = requests.get(url).json()\n",
        "    venue_data=results['response']['venue']\n",
        "    venue_details=[]\n",
        "    try:\n",
        "        venue_id=venue_data['id']\n",
        "        venue_name=venue_data['name']\n",
        "        venue_likes=venue_data['likes']['count']\n",
        "        venue_rating=venue_data['rating']\n",
        "        venue_tips=venue_data['tips']['count']\n",
        "        venue_details.append([venue_id,venue_name,venue_likes,venue_rating,venue_tips])\n",
        "    except KeyError:\n",
        "        pass\n",
        "        \n",
        "    column_names=['ID','Name','Likes','Rating','Tips']\n",
        "    df = pd.DataFrame(venue_details,columns=column_names)\n",
        "    return df"
      ],
      "execution_count": 5,
      "outputs": []
    },
    {
      "cell_type": "markdown",
      "metadata": {
        "id": "QIyYjDrHMga_"
      },
      "source": [
        "Now we define a funtion to get the new york city data such as Boroughs, Neighborhoods along with their latitude and longitude."
      ]
    },
    {
      "cell_type": "code",
      "metadata": {
        "id": "hGHE8Cs1MgbA"
      },
      "source": [
        "def get_new_york_data():\n",
        "    url='https://cocl.us/new_york_dataset'\n",
        "    resp=requests.get(url).json()\n",
        "    # all data is present in features label\n",
        "    features=resp['features']\n",
        "    \n",
        "    # define the dataframe columns\n",
        "    column_names = ['Borough', 'Neighborhood', 'Latitude', 'Longitude'] \n",
        "    # instantiate the dataframe\n",
        "    new_york_data = pd.DataFrame(columns=column_names)\n",
        "    \n",
        "    for data in features:\n",
        "        borough = data['properties']['borough'] \n",
        "        neighborhood_name = data['properties']['name']\n",
        "        \n",
        "        neighborhood_latlon = data['geometry']['coordinates']\n",
        "        neighborhood_lat = neighborhood_latlon[1]\n",
        "        neighborhood_lon = neighborhood_latlon[0]\n",
        "    \n",
        "        new_york_data = new_york_data.append({'Borough': borough,\n",
        "                                          'Neighborhood': neighborhood_name,\n",
        "                                          'Latitude': neighborhood_lat,\n",
        "                                          'Longitude': neighborhood_lon}, ignore_index=True)\n",
        "    \n",
        "    return new_york_data"
      ],
      "execution_count": 6,
      "outputs": []
    },
    {
      "cell_type": "markdown",
      "metadata": {
        "id": "xEg5eeebMgbB"
      },
      "source": [
        "We will call the above funtion to get the new york city data."
      ]
    },
    {
      "cell_type": "code",
      "metadata": {
        "id": "cTTTWqKSMgbC"
      },
      "source": [
        "new_york_data=get_new_york_data()"
      ],
      "execution_count": 7,
      "outputs": []
    },
    {
      "cell_type": "code",
      "metadata": {
        "id": "ZSXKeDjEMgbD",
        "colab": {
          "base_uri": "https://localhost:8080/",
          "height": 195
        },
        "outputId": "60ded6ed-187f-4451-805e-c33c0ea01163"
      },
      "source": [
        "new_york_data.head()"
      ],
      "execution_count": 8,
      "outputs": [
        {
          "output_type": "execute_result",
          "data": {
            "text/html": [
              "<div>\n",
              "<style scoped>\n",
              "    .dataframe tbody tr th:only-of-type {\n",
              "        vertical-align: middle;\n",
              "    }\n",
              "\n",
              "    .dataframe tbody tr th {\n",
              "        vertical-align: top;\n",
              "    }\n",
              "\n",
              "    .dataframe thead th {\n",
              "        text-align: right;\n",
              "    }\n",
              "</style>\n",
              "<table border=\"1\" class=\"dataframe\">\n",
              "  <thead>\n",
              "    <tr style=\"text-align: right;\">\n",
              "      <th></th>\n",
              "      <th>Borough</th>\n",
              "      <th>Neighborhood</th>\n",
              "      <th>Latitude</th>\n",
              "      <th>Longitude</th>\n",
              "    </tr>\n",
              "  </thead>\n",
              "  <tbody>\n",
              "    <tr>\n",
              "      <th>0</th>\n",
              "      <td>Bronx</td>\n",
              "      <td>Wakefield</td>\n",
              "      <td>40.894705</td>\n",
              "      <td>-73.847201</td>\n",
              "    </tr>\n",
              "    <tr>\n",
              "      <th>1</th>\n",
              "      <td>Bronx</td>\n",
              "      <td>Co-op City</td>\n",
              "      <td>40.874294</td>\n",
              "      <td>-73.829939</td>\n",
              "    </tr>\n",
              "    <tr>\n",
              "      <th>2</th>\n",
              "      <td>Bronx</td>\n",
              "      <td>Eastchester</td>\n",
              "      <td>40.887556</td>\n",
              "      <td>-73.827806</td>\n",
              "    </tr>\n",
              "    <tr>\n",
              "      <th>3</th>\n",
              "      <td>Bronx</td>\n",
              "      <td>Fieldston</td>\n",
              "      <td>40.895437</td>\n",
              "      <td>-73.905643</td>\n",
              "    </tr>\n",
              "    <tr>\n",
              "      <th>4</th>\n",
              "      <td>Bronx</td>\n",
              "      <td>Riverdale</td>\n",
              "      <td>40.890834</td>\n",
              "      <td>-73.912585</td>\n",
              "    </tr>\n",
              "  </tbody>\n",
              "</table>\n",
              "</div>"
            ],
            "text/plain": [
              "  Borough Neighborhood   Latitude  Longitude\n",
              "0   Bronx    Wakefield  40.894705 -73.847201\n",
              "1   Bronx   Co-op City  40.874294 -73.829939\n",
              "2   Bronx  Eastchester  40.887556 -73.827806\n",
              "3   Bronx    Fieldston  40.895437 -73.905643\n",
              "4   Bronx    Riverdale  40.890834 -73.912585"
            ]
          },
          "metadata": {
            "tags": []
          },
          "execution_count": 8
        }
      ]
    },
    {
      "cell_type": "code",
      "metadata": {
        "id": "QczaMSZ5MgbE",
        "colab": {
          "base_uri": "https://localhost:8080/"
        },
        "outputId": "9c7ab62f-66f8-433c-cf35-7b45a5c29e34"
      },
      "source": [
        "new_york_data.shape"
      ],
      "execution_count": 9,
      "outputs": [
        {
          "output_type": "execute_result",
          "data": {
            "text/plain": [
              "(306, 4)"
            ]
          },
          "metadata": {
            "tags": []
          },
          "execution_count": 9
        }
      ]
    },
    {
      "cell_type": "markdown",
      "metadata": {
        "id": "jZ3sus-WMgbG"
      },
      "source": [
        "### The above result shows that there are 306 different Neighborhoods in New York."
      ]
    },
    {
      "cell_type": "markdown",
      "metadata": {
        "id": "3Sda_c5qMgbH"
      },
      "source": [
        "Now let create a BAR PLOT to show different Neighborhoods in New York."
      ]
    },
    {
      "cell_type": "code",
      "metadata": {
        "id": "QYt5J2koMgbH",
        "colab": {
          "base_uri": "https://localhost:8080/",
          "height": 563
        },
        "outputId": "43aaaf66-f576-4c6a-a94b-161d18e87452"
      },
      "source": [
        "plt.figure(figsize=(9,5), dpi = 100)\n",
        "# title\n",
        "plt.title('Number of Neighborhood for each Borough in New York City')\n",
        "#On x-axis\n",
        "plt.xlabel('Borough', fontsize = 15)\n",
        "#On y-axis\n",
        "plt.ylabel('No.of Neighborhood', fontsize=15)\n",
        "#giving a bar plot\n",
        "new_york_data.groupby('Borough')['Neighborhood'].count().plot(kind='bar')\n",
        "#legend\n",
        "plt.legend()\n",
        "#displays the plot\n",
        "plt.show()"
      ],
      "execution_count": 10,
      "outputs": [
        {
          "output_type": "display_data",
          "data": {
            "image/png": "[encoded data removed]",
            "text/plain": [
              "<Figure size 900x500 with 1 Axes>"
            ]
          },
          "metadata": {
            "tags": [],
            "needs_background": "light"
          }
        }
      ]
    },
    {
      "cell_type": "markdown",
      "metadata": {
        "id": "qg2BNuGYMgbJ"
      },
      "source": [
        "### From the above Bar Plot, we can see that Queens has highest number of neighborhoods."
      ]
    },
    {
      "cell_type": "markdown",
      "metadata": {
        "id": "WhGdzpDTMgbJ"
      },
      "source": [
        "Next we will collect Thai resturants for each Neighborhood."
      ]
    },
    {
      "cell_type": "code",
      "metadata": {
        "id": "LWy_bW9tMgbK",
        "colab": {
          "base_uri": "https://localhost:8080/"
        },
        "outputId": "c6e95401-bebb-4031-e834-9ff13e1556b4"
      },
      "source": [
        "# prepare neighborhood list that contains Thai resturants\n",
        "column_names=['Borough', 'Neighborhood', 'ID','Name']\n",
        "thai_rest_ny=pd.DataFrame(columns=column_names)\n",
        "count=1\n",
        "for row in new_york_data.values.tolist():\n",
        "    Borough, Neighborhood, Latitude, Longitude=row\n",
        "    venues = get_venues(Latitude,Longitude)\n",
        "    thai_resturants=venues[venues['Category']=='Thai Restaurant']   \n",
        "    print('(',count,'/',len(new_york_data),')','Thai Resturants in '+Neighborhood+', '+Borough+':'+str(len(thai_resturants)))\n",
        "    for resturant_detail in thai_resturants.values.tolist():\n",
        "        id, name , category=resturant_detail\n",
        "        thai_rest_ny = thai_rest_ny.append({'Borough': Borough,\n",
        "                                                'Neighborhood': Neighborhood, \n",
        "                                                'ID': id,\n",
        "                                                'Name' : name\n",
        "                                               }, ignore_index=True)\n",
        "    count+=1"
      ],
      "execution_count": 12,
      "outputs": [
        {
          "output_type": "stream",
          "text": [
            "( 1 / 306 ) Thai Resturants in Wakefield, Bronx:0\n",
            "( 2 / 306 ) Thai Resturants in Co-op City, Bronx:0\n",
            "( 3 / 306 ) Thai Resturants in Eastchester, Bronx:0\n",
            "( 4 / 306 ) Thai Resturants in Fieldston, Bronx:0\n",
            "( 5 / 306 ) Thai Resturants in Riverdale, Bronx:0\n",
            "( 6 / 306 ) Thai Resturants in Kingsbridge, Bronx:0\n",
            "( 7 / 306 ) Thai Resturants in Marble Hill, Manhattan:1\n",
            "( 8 / 306 ) Thai Resturants in Woodlawn, Bronx:0\n",
            "( 9 / 306 ) Thai Resturants in Norwood, Bronx:0\n",
            "( 10 / 306 ) Thai Resturants in Williamsbridge, Bronx:0\n",
            "( 11 / 306 ) Thai Resturants in Baychester, Bronx:0\n",
            "( 12 / 306 ) Thai Resturants in Pelham Parkway, Bronx:0\n",
            "( 13 / 306 ) Thai Resturants in City Island, Bronx:0\n",
            "( 14 / 306 ) Thai Resturants in Bedford Park, Bronx:0\n",
            "( 15 / 306 ) Thai Resturants in University Heights, Bronx:0\n",
            "( 16 / 306 ) Thai Resturants in Morris Heights, Bronx:0\n",
            "( 17 / 306 ) Thai Resturants in Fordham, Bronx:0\n",
            "( 18 / 306 ) Thai Resturants in East Tremont, Bronx:0\n",
            "( 19 / 306 ) Thai Resturants in West Farms, Bronx:0\n",
            "( 20 / 306 ) Thai Resturants in High  Bridge, Bronx:0\n",
            "( 21 / 306 ) Thai Resturants in Melrose, Bronx:0\n",
            "( 22 / 306 ) Thai Resturants in Mott Haven, Bronx:0\n",
            "( 23 / 306 ) Thai Resturants in Port Morris, Bronx:0\n",
            "( 24 / 306 ) Thai Resturants in Longwood, Bronx:0\n",
            "( 25 / 306 ) Thai Resturants in Hunts Point, Bronx:0\n",
            "( 26 / 306 ) Thai Resturants in Morrisania, Bronx:0\n",
            "( 27 / 306 ) Thai Resturants in Soundview, Bronx:0\n",
            "( 28 / 306 ) Thai Resturants in Clason Point, Bronx:0\n",
            "( 29 / 306 ) Thai Resturants in Throgs Neck, Bronx:0\n",
            "( 30 / 306 ) Thai Resturants in Country Club, Bronx:1\n",
            "( 31 / 306 ) Thai Resturants in Parkchester, Bronx:1\n",
            "( 32 / 306 ) Thai Resturants in Westchester Square, Bronx:0\n",
            "( 33 / 306 ) Thai Resturants in Van Nest, Bronx:1\n",
            "( 34 / 306 ) Thai Resturants in Morris Park, Bronx:0\n",
            "( 35 / 306 ) Thai Resturants in Belmont, Bronx:0\n",
            "( 36 / 306 ) Thai Resturants in Spuyten Duyvil, Bronx:1\n",
            "( 37 / 306 ) Thai Resturants in North Riverdale, Bronx:0\n",
            "( 38 / 306 ) Thai Resturants in Pelham Bay, Bronx:2\n",
            "( 39 / 306 ) Thai Resturants in Schuylerville, Bronx:0\n",
            "( 40 / 306 ) Thai Resturants in Edgewater Park, Bronx:0\n",
            "( 41 / 306 ) Thai Resturants in Castle Hill, Bronx:0\n",
            "( 42 / 306 ) Thai Resturants in Olinville, Bronx:0\n",
            "( 43 / 306 ) Thai Resturants in Pelham Gardens, Bronx:0\n",
            "( 44 / 306 ) Thai Resturants in Concourse, Bronx:0\n",
            "( 45 / 306 ) Thai Resturants in Unionport, Bronx:0\n",
            "( 46 / 306 ) Thai Resturants in Edenwald, Bronx:0\n",
            "( 47 / 306 ) Thai Resturants in Bay Ridge, Brooklyn:1\n",
            "( 48 / 306 ) Thai Resturants in Bensonhurst, Brooklyn:0\n",
            "( 49 / 306 ) Thai Resturants in Sunset Park, Brooklyn:1\n",
            "( 50 / 306 ) Thai Resturants in Greenpoint, Brooklyn:1\n",
            "( 51 / 306 ) Thai Resturants in Gravesend, Brooklyn:0\n",
            "( 52 / 306 ) Thai Resturants in Brighton Beach, Brooklyn:0\n",
            "( 53 / 306 ) Thai Resturants in Sheepshead Bay, Brooklyn:0\n",
            "( 54 / 306 ) Thai Resturants in Manhattan Terrace, Brooklyn:0\n",
            "( 55 / 306 ) Thai Resturants in Flatbush, Brooklyn:2\n",
            "( 56 / 306 ) Thai Resturants in Crown Heights, Brooklyn:1\n",
            "( 57 / 306 ) Thai Resturants in East Flatbush, Brooklyn:0\n",
            "( 58 / 306 ) Thai Resturants in Kensington, Brooklyn:4\n",
            "( 59 / 306 ) Thai Resturants in Windsor Terrace, Brooklyn:0\n",
            "( 60 / 306 ) Thai Resturants in Prospect Heights, Brooklyn:2\n",
            "( 61 / 306 ) Thai Resturants in Brownsville, Brooklyn:0\n",
            "( 62 / 306 ) Thai Resturants in Williamsburg, Brooklyn:1\n",
            "( 63 / 306 ) Thai Resturants in Bushwick, Brooklyn:1\n",
            "( 64 / 306 ) Thai Resturants in Bedford Stuyvesant, Brooklyn:0\n",
            "( 65 / 306 ) Thai Resturants in Brooklyn Heights, Brooklyn:1\n",
            "( 66 / 306 ) Thai Resturants in Cobble Hill, Brooklyn:2\n",
            "( 67 / 306 ) Thai Resturants in Carroll Gardens, Brooklyn:2\n",
            "( 68 / 306 ) Thai Resturants in Red Hook, Brooklyn:1\n",
            "( 69 / 306 ) Thai Resturants in Gowanus, Brooklyn:2\n",
            "( 70 / 306 ) Thai Resturants in Fort Greene, Brooklyn:3\n",
            "( 71 / 306 ) Thai Resturants in Park Slope, Brooklyn:2\n",
            "( 72 / 306 ) Thai Resturants in Cypress Hills, Brooklyn:0\n",
            "( 73 / 306 ) Thai Resturants in East New York, Brooklyn:0\n",
            "( 74 / 306 ) Thai Resturants in Starrett City, Brooklyn:0\n",
            "( 75 / 306 ) Thai Resturants in Canarsie, Brooklyn:0\n",
            "( 76 / 306 ) Thai Resturants in Flatlands, Brooklyn:0\n",
            "( 77 / 306 ) Thai Resturants in Mill Island, Brooklyn:0\n",
            "( 78 / 306 ) Thai Resturants in Manhattan Beach, Brooklyn:0\n",
            "( 79 / 306 ) Thai Resturants in Coney Island, Brooklyn:0\n",
            "( 80 / 306 ) Thai Resturants in Bath Beach, Brooklyn:0\n",
            "( 81 / 306 ) Thai Resturants in Borough Park, Brooklyn:0\n",
            "( 82 / 306 ) Thai Resturants in Dyker Heights, Brooklyn:1\n",
            "( 83 / 306 ) Thai Resturants in Gerritsen Beach, Brooklyn:0\n",
            "( 84 / 306 ) Thai Resturants in Marine Park, Brooklyn:0\n",
            "( 85 / 306 ) Thai Resturants in Clinton Hill, Brooklyn:4\n",
            "( 86 / 306 ) Thai Resturants in Sea Gate, Brooklyn:0\n",
            "( 87 / 306 ) Thai Resturants in Downtown, Brooklyn:1\n",
            "( 88 / 306 ) Thai Resturants in Boerum Hill, Brooklyn:1\n",
            "( 89 / 306 ) Thai Resturants in Prospect Lefferts Gardens, Brooklyn:1\n",
            "( 90 / 306 ) Thai Resturants in Ocean Hill, Brooklyn:0\n",
            "( 91 / 306 ) Thai Resturants in City Line, Brooklyn:0\n",
            "( 92 / 306 ) Thai Resturants in Bergen Beach, Brooklyn:0\n",
            "( 93 / 306 ) Thai Resturants in Midwood, Brooklyn:0\n",
            "( 94 / 306 ) Thai Resturants in Prospect Park South, Brooklyn:2\n",
            "( 95 / 306 ) Thai Resturants in Georgetown, Brooklyn:0\n",
            "( 96 / 306 ) Thai Resturants in East Williamsburg, Brooklyn:1\n",
            "( 97 / 306 ) Thai Resturants in North Side, Brooklyn:0\n",
            "( 98 / 306 ) Thai Resturants in South Side, Brooklyn:1\n",
            "( 99 / 306 ) Thai Resturants in Ocean Parkway, Brooklyn:0\n",
            "( 100 / 306 ) Thai Resturants in Fort Hamilton, Brooklyn:1\n",
            "( 101 / 306 ) Thai Resturants in Chinatown, Manhattan:2\n",
            "( 102 / 306 ) Thai Resturants in Washington Heights, Manhattan:1\n",
            "( 103 / 306 ) Thai Resturants in Inwood, Manhattan:0\n",
            "( 104 / 306 ) Thai Resturants in Hamilton Heights, Manhattan:0\n",
            "( 105 / 306 ) Thai Resturants in Manhattanville, Manhattan:0\n",
            "( 106 / 306 ) Thai Resturants in Central Harlem, Manhattan:0\n",
            "( 107 / 306 ) Thai Resturants in East Harlem, Manhattan:2\n",
            "( 108 / 306 ) Thai Resturants in Upper East Side, Manhattan:2\n",
            "( 109 / 306 ) Thai Resturants in Yorkville, Manhattan:1\n",
            "( 110 / 306 ) Thai Resturants in Lenox Hill, Manhattan:2\n",
            "( 111 / 306 ) Thai Resturants in Roosevelt Island, Manhattan:0\n",
            "( 112 / 306 ) Thai Resturants in Upper West Side, Manhattan:1\n",
            "( 113 / 306 ) Thai Resturants in Lincoln Square, Manhattan:0\n",
            "( 114 / 306 ) Thai Resturants in Clinton, Manhattan:0\n",
            "( 115 / 306 ) Thai Resturants in Midtown, Manhattan:0\n",
            "( 116 / 306 ) Thai Resturants in Murray Hill, Manhattan:0\n",
            "( 117 / 306 ) Thai Resturants in Chelsea, Manhattan:1\n",
            "( 118 / 306 ) Thai Resturants in Greenwich Village, Manhattan:1\n",
            "( 119 / 306 ) Thai Resturants in East Village, Manhattan:0\n",
            "( 120 / 306 ) Thai Resturants in Lower East Side, Manhattan:0\n",
            "( 121 / 306 ) Thai Resturants in Tribeca, Manhattan:0\n",
            "( 122 / 306 ) Thai Resturants in Little Italy, Manhattan:2\n",
            "( 123 / 306 ) Thai Resturants in Soho, Manhattan:1\n",
            "( 124 / 306 ) Thai Resturants in West Village, Manhattan:0\n",
            "( 125 / 306 ) Thai Resturants in Manhattan Valley, Manhattan:2\n",
            "( 126 / 306 ) Thai Resturants in Morningside Heights, Manhattan:1\n",
            "( 127 / 306 ) Thai Resturants in Gramercy, Manhattan:1\n",
            "( 128 / 306 ) Thai Resturants in Battery Park City, Manhattan:0\n",
            "( 129 / 306 ) Thai Resturants in Financial District, Manhattan:0\n",
            "( 130 / 306 ) Thai Resturants in Astoria, Queens:2\n",
            "( 131 / 306 ) Thai Resturants in Woodside, Queens:5\n",
            "( 132 / 306 ) Thai Resturants in Jackson Heights, Queens:4\n",
            "( 133 / 306 ) Thai Resturants in Elmhurst, Queens:10\n",
            "( 134 / 306 ) Thai Resturants in Howard Beach, Queens:0\n",
            "( 135 / 306 ) Thai Resturants in Corona, Queens:0\n",
            "( 136 / 306 ) Thai Resturants in Forest Hills, Queens:1\n",
            "( 137 / 306 ) Thai Resturants in Kew Gardens, Queens:0\n",
            "( 138 / 306 ) Thai Resturants in Richmond Hill, Queens:0\n",
            "( 139 / 306 ) Thai Resturants in Flushing, Queens:0\n",
            "( 140 / 306 ) Thai Resturants in Long Island City, Queens:1\n",
            "( 141 / 306 ) Thai Resturants in Sunnyside, Queens:0\n",
            "( 142 / 306 ) Thai Resturants in East Elmhurst, Queens:0\n",
            "( 143 / 306 ) Thai Resturants in Maspeth, Queens:0\n",
            "( 144 / 306 ) Thai Resturants in Ridgewood, Queens:0\n",
            "( 145 / 306 ) Thai Resturants in Glendale, Queens:0\n",
            "( 146 / 306 ) Thai Resturants in Rego Park, Queens:1\n",
            "( 147 / 306 ) Thai Resturants in Woodhaven, Queens:1\n",
            "( 148 / 306 ) Thai Resturants in Ozone Park, Queens:0\n",
            "( 149 / 306 ) Thai Resturants in South Ozone Park, Queens:1\n",
            "( 150 / 306 ) Thai Resturants in College Point, Queens:0\n",
            "( 151 / 306 ) Thai Resturants in Whitestone, Queens:0\n",
            "( 152 / 306 ) Thai Resturants in Bayside, Queens:2\n",
            "( 153 / 306 ) Thai Resturants in Auburndale, Queens:1\n",
            "( 154 / 306 ) Thai Resturants in Little Neck, Queens:0\n",
            "( 155 / 306 ) Thai Resturants in Douglaston, Queens:0\n",
            "( 156 / 306 ) Thai Resturants in Glen Oaks, Queens:1\n",
            "( 157 / 306 ) Thai Resturants in Bellerose, Queens:0\n",
            "( 158 / 306 ) Thai Resturants in Kew Gardens Hills, Queens:0\n",
            "( 159 / 306 ) Thai Resturants in Fresh Meadows, Queens:0\n",
            "( 160 / 306 ) Thai Resturants in Briarwood, Queens:0\n",
            "( 161 / 306 ) Thai Resturants in Jamaica Center, Queens:1\n",
            "( 162 / 306 ) Thai Resturants in Oakland Gardens, Queens:0\n",
            "( 163 / 306 ) Thai Resturants in Queens Village, Queens:0\n",
            "( 164 / 306 ) Thai Resturants in Hollis, Queens:0\n",
            "( 165 / 306 ) Thai Resturants in South Jamaica, Queens:0\n",
            "( 166 / 306 ) Thai Resturants in St. Albans, Queens:0\n",
            "( 167 / 306 ) Thai Resturants in Rochdale, Queens:0\n",
            "( 168 / 306 ) Thai Resturants in Springfield Gardens, Queens:0\n",
            "( 169 / 306 ) Thai Resturants in Cambria Heights, Queens:0\n",
            "( 170 / 306 ) Thai Resturants in Rosedale, Queens:0\n",
            "( 171 / 306 ) Thai Resturants in Far Rockaway, Queens:0\n",
            "( 172 / 306 ) Thai Resturants in Broad Channel, Queens:0\n",
            "( 173 / 306 ) Thai Resturants in Breezy Point, Queens:0\n",
            "( 174 / 306 ) Thai Resturants in Steinway, Queens:1\n",
            "( 175 / 306 ) Thai Resturants in Beechhurst, Queens:0\n",
            "( 176 / 306 ) Thai Resturants in Bay Terrace, Queens:0\n",
            "( 177 / 306 ) Thai Resturants in Edgemere, Queens:0\n",
            "( 178 / 306 ) Thai Resturants in Arverne, Queens:0\n",
            "( 179 / 306 ) Thai Resturants in Rockaway Beach, Queens:1\n",
            "( 180 / 306 ) Thai Resturants in Neponsit, Queens:0\n",
            "( 181 / 306 ) Thai Resturants in Murray Hill, Queens:0\n",
            "( 182 / 306 ) Thai Resturants in Floral Park, Queens:0\n",
            "( 183 / 306 ) Thai Resturants in Holliswood, Queens:0\n",
            "( 184 / 306 ) Thai Resturants in Jamaica Estates, Queens:1\n",
            "( 185 / 306 ) Thai Resturants in Queensboro Hill, Queens:0\n",
            "( 186 / 306 ) Thai Resturants in Hillcrest, Queens:0\n",
            "( 187 / 306 ) Thai Resturants in Ravenswood, Queens:3\n",
            "( 188 / 306 ) Thai Resturants in Lindenwood, Queens:0\n",
            "( 189 / 306 ) Thai Resturants in Laurelton, Queens:0\n",
            "( 190 / 306 ) Thai Resturants in Lefrak City, Queens:1\n",
            "( 191 / 306 ) Thai Resturants in Belle Harbor, Queens:0\n",
            "( 192 / 306 ) Thai Resturants in Rockaway Park, Queens:0\n",
            "( 193 / 306 ) Thai Resturants in Somerville, Queens:0\n",
            "( 194 / 306 ) Thai Resturants in Brookville, Queens:0\n",
            "( 195 / 306 ) Thai Resturants in Bellaire, Queens:0\n",
            "( 196 / 306 ) Thai Resturants in North Corona, Queens:0\n",
            "( 197 / 306 ) Thai Resturants in Forest Hills Gardens, Queens:1\n",
            "( 198 / 306 ) Thai Resturants in St. George, Staten Island:0\n",
            "( 199 / 306 ) Thai Resturants in New Brighton, Staten Island:1\n",
            "( 200 / 306 ) Thai Resturants in Stapleton, Staten Island:0\n",
            "( 201 / 306 ) Thai Resturants in Rosebank, Staten Island:0\n",
            "( 202 / 306 ) Thai Resturants in West Brighton, Staten Island:0\n",
            "( 203 / 306 ) Thai Resturants in Grymes Hill, Staten Island:0\n",
            "( 204 / 306 ) Thai Resturants in Todt Hill, Staten Island:0\n",
            "( 205 / 306 ) Thai Resturants in South Beach, Staten Island:0\n",
            "( 206 / 306 ) Thai Resturants in Port Richmond, Staten Island:1\n",
            "( 207 / 306 ) Thai Resturants in Mariner's Harbor, Staten Island:0\n",
            "( 208 / 306 ) Thai Resturants in Port Ivory, Staten Island:0\n",
            "( 209 / 306 ) Thai Resturants in Castleton Corners, Staten Island:0\n",
            "( 210 / 306 ) Thai Resturants in New Springville, Staten Island:0\n",
            "( 211 / 306 ) Thai Resturants in Travis, Staten Island:0\n",
            "( 212 / 306 ) Thai Resturants in New Dorp, Staten Island:0\n",
            "( 213 / 306 ) Thai Resturants in Oakwood, Staten Island:0\n",
            "( 214 / 306 ) Thai Resturants in Great Kills, Staten Island:0\n",
            "( 215 / 306 ) Thai Resturants in Eltingville, Staten Island:0\n",
            "( 216 / 306 ) Thai Resturants in Annadale, Staten Island:0\n",
            "( 217 / 306 ) Thai Resturants in Woodrow, Staten Island:0\n",
            "( 218 / 306 ) Thai Resturants in Tottenville, Staten Island:0\n",
            "( 219 / 306 ) Thai Resturants in Tompkinsville, Staten Island:0\n",
            "( 220 / 306 ) Thai Resturants in Silver Lake, Staten Island:0\n",
            "( 221 / 306 ) Thai Resturants in Sunnyside, Staten Island:0\n",
            "( 222 / 306 ) Thai Resturants in Ditmas Park, Brooklyn:3\n",
            "( 223 / 306 ) Thai Resturants in Wingate, Brooklyn:0\n",
            "( 224 / 306 ) Thai Resturants in Rugby, Brooklyn:0\n",
            "( 225 / 306 ) Thai Resturants in Park Hill, Staten Island:0\n",
            "( 226 / 306 ) Thai Resturants in Westerleigh, Staten Island:1\n",
            "( 227 / 306 ) Thai Resturants in Graniteville, Staten Island:0\n",
            "( 228 / 306 ) Thai Resturants in Arlington, Staten Island:0\n",
            "( 229 / 306 ) Thai Resturants in Arrochar, Staten Island:0\n",
            "( 230 / 306 ) Thai Resturants in Grasmere, Staten Island:0\n",
            "( 231 / 306 ) Thai Resturants in Old Town, Staten Island:0\n",
            "( 232 / 306 ) Thai Resturants in Dongan Hills, Staten Island:0\n",
            "( 233 / 306 ) Thai Resturants in Midland Beach, Staten Island:0\n",
            "( 234 / 306 ) Thai Resturants in Grant City, Staten Island:0\n",
            "( 235 / 306 ) Thai Resturants in New Dorp Beach, Staten Island:0\n",
            "( 236 / 306 ) Thai Resturants in Bay Terrace, Staten Island:0\n",
            "( 237 / 306 ) Thai Resturants in Huguenot, Staten Island:0\n",
            "( 238 / 306 ) Thai Resturants in Pleasant Plains, Staten Island:0\n",
            "( 239 / 306 ) Thai Resturants in Butler Manor, Staten Island:0\n",
            "( 240 / 306 ) Thai Resturants in Charleston, Staten Island:0\n",
            "( 241 / 306 ) Thai Resturants in Rossville, Staten Island:0\n",
            "( 242 / 306 ) Thai Resturants in Arden Heights, Staten Island:0\n",
            "( 243 / 306 ) Thai Resturants in Greenridge, Staten Island:0\n",
            "( 244 / 306 ) Thai Resturants in Heartland Village, Staten Island:0\n",
            "( 245 / 306 ) Thai Resturants in Chelsea, Staten Island:0\n",
            "( 246 / 306 ) Thai Resturants in Bloomfield, Staten Island:0\n",
            "( 247 / 306 ) Thai Resturants in Bulls Head, Staten Island:0\n",
            "( 248 / 306 ) Thai Resturants in Carnegie Hill, Manhattan:0\n",
            "( 249 / 306 ) Thai Resturants in Noho, Manhattan:1\n",
            "( 250 / 306 ) Thai Resturants in Civic Center, Manhattan:0\n",
            "( 251 / 306 ) Thai Resturants in Midtown South, Manhattan:0\n",
            "( 252 / 306 ) Thai Resturants in Richmond Town, Staten Island:0\n",
            "( 253 / 306 ) Thai Resturants in Shore Acres, Staten Island:0\n",
            "( 254 / 306 ) Thai Resturants in Clifton, Staten Island:0\n",
            "( 255 / 306 ) Thai Resturants in Concord, Staten Island:0\n",
            "( 256 / 306 ) Thai Resturants in Emerson Hill, Staten Island:0\n",
            "( 257 / 306 ) Thai Resturants in Randall Manor, Staten Island:0\n",
            "( 258 / 306 ) Thai Resturants in Howland Hook, Staten Island:0\n",
            "( 259 / 306 ) Thai Resturants in Elm Park, Staten Island:0\n",
            "( 260 / 306 ) Thai Resturants in Remsen Village, Brooklyn:0\n",
            "( 261 / 306 ) Thai Resturants in New Lots, Brooklyn:0\n",
            "( 262 / 306 ) Thai Resturants in Paerdegat Basin, Brooklyn:0\n",
            "( 263 / 306 ) Thai Resturants in Mill Basin, Brooklyn:0\n",
            "( 264 / 306 ) Thai Resturants in Jamaica Hills, Queens:1\n",
            "( 265 / 306 ) Thai Resturants in Utopia, Queens:1\n",
            "( 266 / 306 ) Thai Resturants in Pomonok, Queens:0\n",
            "( 267 / 306 ) Thai Resturants in Astoria Heights, Queens:0\n",
            "( 268 / 306 ) Thai Resturants in Claremont Village, Bronx:0\n",
            "( 269 / 306 ) Thai Resturants in Concourse Village, Bronx:0\n",
            "( 270 / 306 ) Thai Resturants in Mount Eden, Bronx:0\n",
            "( 271 / 306 ) Thai Resturants in Mount Hope, Bronx:0\n",
            "( 272 / 306 ) Thai Resturants in Sutton Place, Manhattan:1\n",
            "( 273 / 306 ) Thai Resturants in Hunters Point, Queens:1\n",
            "( 274 / 306 ) Thai Resturants in Turtle Bay, Manhattan:0\n",
            "( 275 / 306 ) Thai Resturants in Tudor City, Manhattan:2\n",
            "( 276 / 306 ) Thai Resturants in Stuyvesant Town, Manhattan:0\n",
            "( 277 / 306 ) Thai Resturants in Flatiron, Manhattan:1\n",
            "( 278 / 306 ) Thai Resturants in Sunnyside Gardens, Queens:0\n",
            "( 279 / 306 ) Thai Resturants in Blissville, Queens:0\n",
            "( 280 / 306 ) Thai Resturants in Fulton Ferry, Brooklyn:0\n",
            "( 281 / 306 ) Thai Resturants in Vinegar Hill, Brooklyn:0\n",
            "( 282 / 306 ) Thai Resturants in Weeksville, Brooklyn:0\n",
            "( 283 / 306 ) Thai Resturants in Broadway Junction, Brooklyn:0\n",
            "( 284 / 306 ) Thai Resturants in Dumbo, Brooklyn:0\n",
            "( 285 / 306 ) Thai Resturants in Manor Heights, Staten Island:0\n",
            "( 286 / 306 ) Thai Resturants in Willowbrook, Staten Island:0\n",
            "( 287 / 306 ) Thai Resturants in Sandy Ground, Staten Island:0\n",
            "( 288 / 306 ) Thai Resturants in Egbertville, Staten Island:0\n",
            "( 289 / 306 ) Thai Resturants in Roxbury, Queens:0\n",
            "( 290 / 306 ) Thai Resturants in Homecrest, Brooklyn:0\n",
            "( 291 / 306 ) Thai Resturants in Middle Village, Queens:0\n",
            "( 292 / 306 ) Thai Resturants in Prince's Bay, Staten Island:0\n",
            "( 293 / 306 ) Thai Resturants in Lighthouse Hill, Staten Island:0\n",
            "( 294 / 306 ) Thai Resturants in Richmond Valley, Staten Island:0\n",
            "( 295 / 306 ) Thai Resturants in Malba, Queens:0\n",
            "( 296 / 306 ) Thai Resturants in Highland Park, Brooklyn:0\n",
            "( 297 / 306 ) Thai Resturants in Madison, Brooklyn:0\n",
            "( 298 / 306 ) Thai Resturants in Bronxdale, Bronx:0\n",
            "( 299 / 306 ) Thai Resturants in Allerton, Bronx:0\n",
            "( 300 / 306 ) Thai Resturants in Kingsbridge Heights, Bronx:0\n",
            "( 301 / 306 ) Thai Resturants in Erasmus, Brooklyn:0\n",
            "( 302 / 306 ) Thai Resturants in Hudson Yards, Manhattan:0\n",
            "( 303 / 306 ) Thai Resturants in Hammels, Queens:0\n",
            "( 304 / 306 ) Thai Resturants in Bayswater, Queens:0\n",
            "( 305 / 306 ) Thai Resturants in Queensbridge, Queens:1\n",
            "( 306 / 306 ) Thai Resturants in Fox Hills, Staten Island:0\n"
          ],
          "name": "stdout"
        }
      ]
    },
    {
      "cell_type": "markdown",
      "metadata": {
        "id": "xLdpFzEfMgbM"
      },
      "source": [
        "Now that we have got all the Thai resturants in new york city , we will analyze it."
      ]
    },
    {
      "cell_type": "code",
      "metadata": {
        "id": "bXbnElShMgbM",
        "colab": {
          "base_uri": "https://localhost:8080/",
          "height": 195
        },
        "outputId": "f783818c-25f4-4cb7-fb32-c6366d3a45eb"
      },
      "source": [
        "thai_rest_ny.head()"
      ],
      "execution_count": 13,
      "outputs": [
        {
          "output_type": "execute_result",
          "data": {
            "text/html": [
              "<div>\n",
              "<style scoped>\n",
              "    .dataframe tbody tr th:only-of-type {\n",
              "        vertical-align: middle;\n",
              "    }\n",
              "\n",
              "    .dataframe tbody tr th {\n",
              "        vertical-align: top;\n",
              "    }\n",
              "\n",
              "    .dataframe thead th {\n",
              "        text-align: right;\n",
              "    }\n",
              "</style>\n",
              "<table border=\"1\" class=\"dataframe\">\n",
              "  <thead>\n",
              "    <tr style=\"text-align: right;\">\n",
              "      <th></th>\n",
              "      <th>Borough</th>\n",
              "      <th>Neighborhood</th>\n",
              "      <th>ID</th>\n",
              "      <th>Name</th>\n",
              "    </tr>\n",
              "  </thead>\n",
              "  <tbody>\n",
              "    <tr>\n",
              "      <th>0</th>\n",
              "      <td>Manhattan</td>\n",
              "      <td>Marble Hill</td>\n",
              "      <td>4a739e29f964a520f5dc1fe3</td>\n",
              "      <td>Siam Square</td>\n",
              "    </tr>\n",
              "    <tr>\n",
              "      <th>1</th>\n",
              "      <td>Bronx</td>\n",
              "      <td>Country Club</td>\n",
              "      <td>4b4c90d3f964a52046b626e3</td>\n",
              "      <td>Honey's Thai Pavilion</td>\n",
              "    </tr>\n",
              "    <tr>\n",
              "      <th>2</th>\n",
              "      <td>Bronx</td>\n",
              "      <td>Parkchester</td>\n",
              "      <td>5585c948498e0bd8a8a706f1</td>\n",
              "      <td>Thai Cuisine</td>\n",
              "    </tr>\n",
              "    <tr>\n",
              "      <th>3</th>\n",
              "      <td>Bronx</td>\n",
              "      <td>Van Nest</td>\n",
              "      <td>5585c948498e0bd8a8a706f1</td>\n",
              "      <td>Thai Cuisine</td>\n",
              "    </tr>\n",
              "    <tr>\n",
              "      <th>4</th>\n",
              "      <td>Bronx</td>\n",
              "      <td>Spuyten Duyvil</td>\n",
              "      <td>4a739e29f964a520f5dc1fe3</td>\n",
              "      <td>Siam Square</td>\n",
              "    </tr>\n",
              "  </tbody>\n",
              "</table>\n",
              "</div>"
            ],
            "text/plain": [
              "     Borough    Neighborhood                        ID                   Name\n",
              "0  Manhattan     Marble Hill  4a739e29f964a520f5dc1fe3            Siam Square\n",
              "1      Bronx    Country Club  4b4c90d3f964a52046b626e3  Honey's Thai Pavilion\n",
              "2      Bronx     Parkchester  5585c948498e0bd8a8a706f1           Thai Cuisine\n",
              "3      Bronx        Van Nest  5585c948498e0bd8a8a706f1           Thai Cuisine\n",
              "4      Bronx  Spuyten Duyvil  4a739e29f964a520f5dc1fe3            Siam Square"
            ]
          },
          "metadata": {
            "tags": []
          },
          "execution_count": 13
        }
      ]
    },
    {
      "cell_type": "code",
      "metadata": {
        "id": "k_5GFC35MgbN",
        "colab": {
          "base_uri": "https://localhost:8080/"
        },
        "outputId": "ad1af886-caf5-4dbc-edde-94a3a97f8661"
      },
      "source": [
        "thai_rest_ny.shape"
      ],
      "execution_count": 14,
      "outputs": [
        {
          "output_type": "execute_result",
          "data": {
            "text/plain": [
              "(121, 4)"
            ]
          },
          "metadata": {
            "tags": []
          },
          "execution_count": 14
        }
      ]
    },
    {
      "cell_type": "markdown",
      "metadata": {
        "id": "Z2PklytUMgbO"
      },
      "source": [
        "### From the above result, we see that there are 121 Thai Resturants across New York City."
      ]
    },
    {
      "cell_type": "markdown",
      "metadata": {
        "id": "dMUVCo-_MgbP"
      },
      "source": [
        "Now let create a BAR PLOT to show Number of Thai Resturants for each Borough in New York City."
      ]
    },
    {
      "cell_type": "code",
      "metadata": {
        "id": "-Zjf2a7zMgbQ",
        "colab": {
          "base_uri": "https://localhost:8080/",
          "height": 563
        },
        "outputId": "c2c2095f-2418-45ba-e050-c860aefb6de4"
      },
      "source": [
        "plt.figure(figsize=(9,5), dpi = 100)\n",
        "# title\n",
        "plt.title('Number of Thai Resturants for each Borough in New York City')\n",
        "#On x-axis\n",
        "plt.xlabel('Borough', fontsize = 15)\n",
        "#On y-axis\n",
        "plt.ylabel('Number of Thai Resturants', fontsize=15)\n",
        "#giving a bar plot\n",
        "thai_rest_ny.groupby('Borough')['ID'].count().plot(kind='bar')\n",
        "#legend\n",
        "plt.legend()\n",
        "#displays the plot\n",
        "plt.show()"
      ],
      "execution_count": 16,
      "outputs": [
        {
          "output_type": "display_data",
          "data": {
            "image/png": "[encoded data removed]",
            "text/plain": [
              "<Figure size 900x500 with 1 Axes>"
            ]
          },
          "metadata": {
            "tags": [],
            "needs_background": "light"
          }
        }
      ]
    },
    {
      "cell_type": "markdown",
      "metadata": {
        "id": "Lx-W1a8pMgbR"
      },
      "source": [
        "### From the above Bar Plot, we can see that Brooklyn and Queens has highest number of Thai resturants."
      ]
    },
    {
      "cell_type": "code",
      "metadata": {
        "id": "iEoeJts0MgbS",
        "colab": {
          "base_uri": "https://localhost:8080/",
          "height": 582
        },
        "outputId": "207fb854-479c-46d9-8906-c68f7edd9edf"
      },
      "source": [
        "plt.figure(figsize=(9,5), dpi = 100)\n",
        "# title\n",
        "plt.title('Number of Thai Resturants for each Neighborhood in New York City')\n",
        "#On x-axis\n",
        "plt.xlabel('Neighborhood', fontsize = 15)\n",
        "#On y-axis\n",
        "plt.ylabel('Number of Thai Resturants', fontsize=15)\n",
        "#giving a bar plot\n",
        "thai_rest_ny.groupby('Neighborhood')['ID'].count().nlargest(5).plot(kind='bar')\n",
        "#legend\n",
        "plt.legend()\n",
        "#displays the plot\n",
        "plt.show()"
      ],
      "execution_count": 17,
      "outputs": [
        {
          "output_type": "display_data",
          "data": {
            "image/png": "[encoded data removed]",
            "text/plain": [
              "<Figure size 900x500 with 1 Axes>"
            ]
          },
          "metadata": {
            "tags": [],
            "needs_background": "light"
          }
        }
      ]
    },
    {
      "cell_type": "code",
      "metadata": {
        "id": "oZvG6ROxMgbT",
        "colab": {
          "base_uri": "https://localhost:8080/",
          "height": 343
        },
        "outputId": "42611abe-ed21-4356-f498-282f83a348f5"
      },
      "source": [
        "thai_rest_ny[thai_rest_ny['Neighborhood']=='Elmhurst']"
      ],
      "execution_count": 18,
      "outputs": [
        {
          "output_type": "execute_result",
          "data": {
            "text/html": [
              "<div>\n",
              "<style scoped>\n",
              "    .dataframe tbody tr th:only-of-type {\n",
              "        vertical-align: middle;\n",
              "    }\n",
              "\n",
              "    .dataframe tbody tr th {\n",
              "        vertical-align: top;\n",
              "    }\n",
              "\n",
              "    .dataframe thead th {\n",
              "        text-align: right;\n",
              "    }\n",
              "</style>\n",
              "<table border=\"1\" class=\"dataframe\">\n",
              "  <thead>\n",
              "    <tr style=\"text-align: right;\">\n",
              "      <th></th>\n",
              "      <th>Borough</th>\n",
              "      <th>Neighborhood</th>\n",
              "      <th>ID</th>\n",
              "      <th>Name</th>\n",
              "    </tr>\n",
              "  </thead>\n",
              "  <tbody>\n",
              "    <tr>\n",
              "      <th>78</th>\n",
              "      <td>Queens</td>\n",
              "      <td>Elmhurst</td>\n",
              "      <td>5abad6379de23b5eeb077b04</td>\n",
              "      <td>Lamoon</td>\n",
              "    </tr>\n",
              "    <tr>\n",
              "      <th>79</th>\n",
              "      <td>Queens</td>\n",
              "      <td>Elmhurst</td>\n",
              "      <td>52f693e6498ed9d2a3fbad75</td>\n",
              "      <td>Eim Khao Mun Kai Elmhurst อิ่ม ข้าวมันไก่เอ็มเ...</td>\n",
              "    </tr>\n",
              "    <tr>\n",
              "      <th>80</th>\n",
              "      <td>Queens</td>\n",
              "      <td>Elmhurst</td>\n",
              "      <td>593f6541123a19687791b390</td>\n",
              "      <td>Hug Esan NYC</td>\n",
              "    </tr>\n",
              "    <tr>\n",
              "      <th>81</th>\n",
              "      <td>Queens</td>\n",
              "      <td>Elmhurst</td>\n",
              "      <td>4b26f895f964a5209d8324e3</td>\n",
              "      <td>Ayada Thai</td>\n",
              "    </tr>\n",
              "    <tr>\n",
              "      <th>82</th>\n",
              "      <td>Queens</td>\n",
              "      <td>Elmhurst</td>\n",
              "      <td>4c2e801d3ffc952130568ff5</td>\n",
              "      <td>Boon Chu Thai Restaurant</td>\n",
              "    </tr>\n",
              "    <tr>\n",
              "      <th>83</th>\n",
              "      <td>Queens</td>\n",
              "      <td>Elmhurst</td>\n",
              "      <td>531372e9498ebd3be2888afc</td>\n",
              "      <td>Khao Kang ข้าวแกง</td>\n",
              "    </tr>\n",
              "    <tr>\n",
              "      <th>84</th>\n",
              "      <td>Queens</td>\n",
              "      <td>Elmhurst</td>\n",
              "      <td>4ad15d63f964a5203ede20e3</td>\n",
              "      <td>Spicy Shallot</td>\n",
              "    </tr>\n",
              "    <tr>\n",
              "      <th>85</th>\n",
              "      <td>Queens</td>\n",
              "      <td>Elmhurst</td>\n",
              "      <td>56e210f7cd102122a9fb1d1b</td>\n",
              "      <td>Dek Sen</td>\n",
              "    </tr>\n",
              "    <tr>\n",
              "      <th>86</th>\n",
              "      <td>Queens</td>\n",
              "      <td>Elmhurst</td>\n",
              "      <td>53af884e498e0a4a4943f670</td>\n",
              "      <td>Kitchen 79</td>\n",
              "    </tr>\n",
              "    <tr>\n",
              "      <th>87</th>\n",
              "      <td>Queens</td>\n",
              "      <td>Elmhurst</td>\n",
              "      <td>4a7b6d8ff964a520fcea1fe3</td>\n",
              "      <td>Arunee Thai</td>\n",
              "    </tr>\n",
              "  </tbody>\n",
              "</table>\n",
              "</div>"
            ],
            "text/plain": [
              "   Borough Neighborhood                        ID  \\\n",
              "78  Queens     Elmhurst  5abad6379de23b5eeb077b04   \n",
              "79  Queens     Elmhurst  52f693e6498ed9d2a3fbad75   \n",
              "80  Queens     Elmhurst  593f6541123a19687791b390   \n",
              "81  Queens     Elmhurst  4b26f895f964a5209d8324e3   \n",
              "82  Queens     Elmhurst  4c2e801d3ffc952130568ff5   \n",
              "83  Queens     Elmhurst  531372e9498ebd3be2888afc   \n",
              "84  Queens     Elmhurst  4ad15d63f964a5203ede20e3   \n",
              "85  Queens     Elmhurst  56e210f7cd102122a9fb1d1b   \n",
              "86  Queens     Elmhurst  53af884e498e0a4a4943f670   \n",
              "87  Queens     Elmhurst  4a7b6d8ff964a520fcea1fe3   \n",
              "\n",
              "                                                 Name  \n",
              "78                                             Lamoon  \n",
              "79  Eim Khao Mun Kai Elmhurst อิ่ม ข้าวมันไก่เอ็มเ...  \n",
              "80                                       Hug Esan NYC  \n",
              "81                                         Ayada Thai  \n",
              "82                           Boon Chu Thai Restaurant  \n",
              "83                                  Khao Kang ข้าวแกง  \n",
              "84                                      Spicy Shallot  \n",
              "85                                            Dek Sen  \n",
              "86                                         Kitchen 79  \n",
              "87                                        Arunee Thai  "
            ]
          },
          "metadata": {
            "tags": []
          },
          "execution_count": 18
        }
      ]
    },
    {
      "cell_type": "markdown",
      "metadata": {
        "id": "Ukt1dw4QMgbV"
      },
      "source": [
        "### We can see that, Elmhurst in Queens has the highest number of Thai Resturants with a total count of 10."
      ]
    },
    {
      "cell_type": "markdown",
      "metadata": {
        "id": "o_LGY_4wMgbW"
      },
      "source": [
        "Now we will get the ranking of each resturant for further analysis."
      ]
    },
    {
      "cell_type": "code",
      "metadata": {
        "id": "2STLfxx1MgbX"
      },
      "source": [
        "# prepare neighborhood list that contains thai resturants\n",
        "column_names=['Borough', 'Neighborhood', 'ID','Name','Likes','Rating','Tips']\n",
        "thai_rest_stats_ny=pd.DataFrame(columns=column_names)\n",
        "count=1\n",
        "\n",
        "\n",
        "for row in thai_rest_ny.values.tolist():\n",
        "    Borough,Neighborhood,ID,Name=row\n",
        "    try:\n",
        "        venue_details=get_venue_details(ID)\n",
        "        print(venue_details)\n",
        "        id,name,likes,rating,tips=venue_details.values.tolist()[0]\n",
        "    except IndexError:\n",
        "        print('No data available for id=',ID)\n",
        "        # we will assign 0 value for these resturants as they may have been \n",
        "        # recently opened or details does not exist in FourSquare Database\n",
        "        id,name,likes,rating,tips=[0]*5\n",
        "    print('(',count,'/',len(thai_rest_ny),')','processed')\n",
        "    thai_rest_stats_ny = thai_rest_stats_ny.append({'Borough': Borough,\n",
        "                                                'Neighborhood': Neighborhood, \n",
        "                                                'ID': id,\n",
        "                                                'Name' : name,\n",
        "                                                'Likes' : likes,\n",
        "                                                'Rating' : rating,\n",
        "                                                'Tips' : tips\n",
        "                                               }, ignore_index=True)\n",
        "    count+=1"
      ],
      "execution_count": null,
      "outputs": []
    },
    {
      "cell_type": "code",
      "metadata": {
        "id": "znlIrSwDMgbY",
        "colab": {
          "base_uri": "https://localhost:8080/",
          "height": 195
        },
        "outputId": "8491296a-2ecf-4ae0-ac2a-a4236980c24a"
      },
      "source": [
        "thai_rest_stats_ny.head()"
      ],
      "execution_count": 20,
      "outputs": [
        {
          "output_type": "execute_result",
          "data": {
            "text/html": [
              "<div>\n",
              "<style scoped>\n",
              "    .dataframe tbody tr th:only-of-type {\n",
              "        vertical-align: middle;\n",
              "    }\n",
              "\n",
              "    .dataframe tbody tr th {\n",
              "        vertical-align: top;\n",
              "    }\n",
              "\n",
              "    .dataframe thead th {\n",
              "        text-align: right;\n",
              "    }\n",
              "</style>\n",
              "<table border=\"1\" class=\"dataframe\">\n",
              "  <thead>\n",
              "    <tr style=\"text-align: right;\">\n",
              "      <th></th>\n",
              "      <th>Borough</th>\n",
              "      <th>Neighborhood</th>\n",
              "      <th>ID</th>\n",
              "      <th>Name</th>\n",
              "      <th>Likes</th>\n",
              "      <th>Rating</th>\n",
              "      <th>Tips</th>\n",
              "    </tr>\n",
              "  </thead>\n",
              "  <tbody>\n",
              "    <tr>\n",
              "      <th>0</th>\n",
              "      <td>Manhattan</td>\n",
              "      <td>Marble Hill</td>\n",
              "      <td>4a739e29f964a520f5dc1fe3</td>\n",
              "      <td>Siam Square</td>\n",
              "      <td>15</td>\n",
              "      <td>7.0</td>\n",
              "      <td>13</td>\n",
              "    </tr>\n",
              "    <tr>\n",
              "      <th>1</th>\n",
              "      <td>Bronx</td>\n",
              "      <td>Country Club</td>\n",
              "      <td>4b4c90d3f964a52046b626e3</td>\n",
              "      <td>Honey's Thai Pavilion</td>\n",
              "      <td>19</td>\n",
              "      <td>7.5</td>\n",
              "      <td>27</td>\n",
              "    </tr>\n",
              "    <tr>\n",
              "      <th>2</th>\n",
              "      <td>Bronx</td>\n",
              "      <td>Parkchester</td>\n",
              "      <td>5585c948498e0bd8a8a706f1</td>\n",
              "      <td>Thai Cuisine</td>\n",
              "      <td>17</td>\n",
              "      <td>6.9</td>\n",
              "      <td>1</td>\n",
              "    </tr>\n",
              "    <tr>\n",
              "      <th>3</th>\n",
              "      <td>Bronx</td>\n",
              "      <td>Van Nest</td>\n",
              "      <td>5585c948498e0bd8a8a706f1</td>\n",
              "      <td>Thai Cuisine</td>\n",
              "      <td>17</td>\n",
              "      <td>6.9</td>\n",
              "      <td>1</td>\n",
              "    </tr>\n",
              "    <tr>\n",
              "      <th>4</th>\n",
              "      <td>Bronx</td>\n",
              "      <td>Spuyten Duyvil</td>\n",
              "      <td>4a739e29f964a520f5dc1fe3</td>\n",
              "      <td>Siam Square</td>\n",
              "      <td>15</td>\n",
              "      <td>7.0</td>\n",
              "      <td>13</td>\n",
              "    </tr>\n",
              "  </tbody>\n",
              "</table>\n",
              "</div>"
            ],
            "text/plain": [
              "     Borough    Neighborhood                        ID                   Name  \\\n",
              "0  Manhattan     Marble Hill  4a739e29f964a520f5dc1fe3            Siam Square   \n",
              "1      Bronx    Country Club  4b4c90d3f964a52046b626e3  Honey's Thai Pavilion   \n",
              "2      Bronx     Parkchester  5585c948498e0bd8a8a706f1           Thai Cuisine   \n",
              "3      Bronx        Van Nest  5585c948498e0bd8a8a706f1           Thai Cuisine   \n",
              "4      Bronx  Spuyten Duyvil  4a739e29f964a520f5dc1fe3            Siam Square   \n",
              "\n",
              "  Likes  Rating Tips  \n",
              "0    15     7.0   13  \n",
              "1    19     7.5   27  \n",
              "2    17     6.9    1  \n",
              "3    17     6.9    1  \n",
              "4    15     7.0   13  "
            ]
          },
          "metadata": {
            "tags": []
          },
          "execution_count": 20
        }
      ]
    },
    {
      "cell_type": "code",
      "metadata": {
        "id": "hdRcrWpRMgbZ",
        "colab": {
          "base_uri": "https://localhost:8080/"
        },
        "outputId": "7eb62df5-b8ed-41d1-b10d-82515a0960b1"
      },
      "source": [
        "thai_rest_stats_ny.shape"
      ],
      "execution_count": 21,
      "outputs": [
        {
          "output_type": "execute_result",
          "data": {
            "text/plain": [
              "(50, 7)"
            ]
          },
          "metadata": {
            "tags": []
          },
          "execution_count": 21
        }
      ]
    },
    {
      "cell_type": "code",
      "metadata": {
        "id": "tG8An8ZpMgbb",
        "colab": {
          "base_uri": "https://localhost:8080/"
        },
        "outputId": "a38b041b-26da-4a50-be6e-0853dd352b08"
      },
      "source": [
        "thai_rest_ny.shape"
      ],
      "execution_count": 22,
      "outputs": [
        {
          "output_type": "execute_result",
          "data": {
            "text/plain": [
              "(121, 4)"
            ]
          },
          "metadata": {
            "tags": []
          },
          "execution_count": 22
        }
      ]
    },
    {
      "cell_type": "markdown",
      "metadata": {
        "id": "uyZ7S8TyMgbc"
      },
      "source": [
        "Now that we got data for all resturants Now lets save this data to a csv sheet. In case we by mistake modify it. As the number of calls to get details for venue are premium call and have limit of 500 per day, we will refer to saved data sheet csv if required."
      ]
    },
    {
      "cell_type": "code",
      "metadata": {
        "id": "kzHAl7hIMgbc"
      },
      "source": [
        "thai_rest_stats_ny.to_csv('thai_rest_stats_ny.csv', index=False)"
      ],
      "execution_count": 23,
      "outputs": []
    },
    {
      "cell_type": "markdown",
      "metadata": {
        "id": "aMxF7NAeMgbd"
      },
      "source": [
        "Lets verify the data from saved csv file."
      ]
    },
    {
      "cell_type": "code",
      "metadata": {
        "id": "2w3bdb0_Mgbe"
      },
      "source": [
        "thai_rest_stats_ny_csv=pd.read_csv('thai_rest_stats_ny.csv')"
      ],
      "execution_count": 25,
      "outputs": []
    },
    {
      "cell_type": "code",
      "metadata": {
        "id": "n8DuwfsqMgbf",
        "colab": {
          "base_uri": "https://localhost:8080/"
        },
        "outputId": "1725c2c2-611c-4db8-8fe0-f9eb8fbcb52b"
      },
      "source": [
        "thai_rest_stats_ny_csv.shape"
      ],
      "execution_count": 26,
      "outputs": [
        {
          "output_type": "execute_result",
          "data": {
            "text/plain": [
              "(50, 7)"
            ]
          },
          "metadata": {
            "tags": []
          },
          "execution_count": 26
        }
      ]
    },
    {
      "cell_type": "code",
      "metadata": {
        "id": "2mzZ249GMgbh",
        "colab": {
          "base_uri": "https://localhost:8080/",
          "height": 195
        },
        "outputId": "67c7dfe0-9f79-4edf-9527-313551d3c6bd"
      },
      "source": [
        "thai_rest_stats_ny_csv.head()"
      ],
      "execution_count": 27,
      "outputs": [
        {
          "output_type": "execute_result",
          "data": {
            "text/html": [
              "<div>\n",
              "<style scoped>\n",
              "    .dataframe tbody tr th:only-of-type {\n",
              "        vertical-align: middle;\n",
              "    }\n",
              "\n",
              "    .dataframe tbody tr th {\n",
              "        vertical-align: top;\n",
              "    }\n",
              "\n",
              "    .dataframe thead th {\n",
              "        text-align: right;\n",
              "    }\n",
              "</style>\n",
              "<table border=\"1\" class=\"dataframe\">\n",
              "  <thead>\n",
              "    <tr style=\"text-align: right;\">\n",
              "      <th></th>\n",
              "      <th>Borough</th>\n",
              "      <th>Neighborhood</th>\n",
              "      <th>ID</th>\n",
              "      <th>Name</th>\n",
              "      <th>Likes</th>\n",
              "      <th>Rating</th>\n",
              "      <th>Tips</th>\n",
              "    </tr>\n",
              "  </thead>\n",
              "  <tbody>\n",
              "    <tr>\n",
              "      <th>0</th>\n",
              "      <td>Manhattan</td>\n",
              "      <td>Marble Hill</td>\n",
              "      <td>4a739e29f964a520f5dc1fe3</td>\n",
              "      <td>Siam Square</td>\n",
              "      <td>15</td>\n",
              "      <td>7.0</td>\n",
              "      <td>13</td>\n",
              "    </tr>\n",
              "    <tr>\n",
              "      <th>1</th>\n",
              "      <td>Bronx</td>\n",
              "      <td>Country Club</td>\n",
              "      <td>4b4c90d3f964a52046b626e3</td>\n",
              "      <td>Honey's Thai Pavilion</td>\n",
              "      <td>19</td>\n",
              "      <td>7.5</td>\n",
              "      <td>27</td>\n",
              "    </tr>\n",
              "    <tr>\n",
              "      <th>2</th>\n",
              "      <td>Bronx</td>\n",
              "      <td>Parkchester</td>\n",
              "      <td>5585c948498e0bd8a8a706f1</td>\n",
              "      <td>Thai Cuisine</td>\n",
              "      <td>17</td>\n",
              "      <td>6.9</td>\n",
              "      <td>1</td>\n",
              "    </tr>\n",
              "    <tr>\n",
              "      <th>3</th>\n",
              "      <td>Bronx</td>\n",
              "      <td>Van Nest</td>\n",
              "      <td>5585c948498e0bd8a8a706f1</td>\n",
              "      <td>Thai Cuisine</td>\n",
              "      <td>17</td>\n",
              "      <td>6.9</td>\n",
              "      <td>1</td>\n",
              "    </tr>\n",
              "    <tr>\n",
              "      <th>4</th>\n",
              "      <td>Bronx</td>\n",
              "      <td>Spuyten Duyvil</td>\n",
              "      <td>4a739e29f964a520f5dc1fe3</td>\n",
              "      <td>Siam Square</td>\n",
              "      <td>15</td>\n",
              "      <td>7.0</td>\n",
              "      <td>13</td>\n",
              "    </tr>\n",
              "  </tbody>\n",
              "</table>\n",
              "</div>"
            ],
            "text/plain": [
              "     Borough    Neighborhood                        ID                   Name  \\\n",
              "0  Manhattan     Marble Hill  4a739e29f964a520f5dc1fe3            Siam Square   \n",
              "1      Bronx    Country Club  4b4c90d3f964a52046b626e3  Honey's Thai Pavilion   \n",
              "2      Bronx     Parkchester  5585c948498e0bd8a8a706f1           Thai Cuisine   \n",
              "3      Bronx        Van Nest  5585c948498e0bd8a8a706f1           Thai Cuisine   \n",
              "4      Bronx  Spuyten Duyvil  4a739e29f964a520f5dc1fe3            Siam Square   \n",
              "\n",
              "   Likes  Rating  Tips  \n",
              "0     15     7.0    13  \n",
              "1     19     7.5    27  \n",
              "2     17     6.9     1  \n",
              "3     17     6.9     1  \n",
              "4     15     7.0    13  "
            ]
          },
          "metadata": {
            "tags": []
          },
          "execution_count": 27
        }
      ]
    },
    {
      "cell_type": "code",
      "metadata": {
        "id": "lvntB3p5Mgbi",
        "colab": {
          "base_uri": "https://localhost:8080/"
        },
        "outputId": "418286ec-19ec-48c4-9f88-8f0333a182fd"
      },
      "source": [
        "thai_rest_stats_ny.info()"
      ],
      "execution_count": 28,
      "outputs": [
        {
          "output_type": "stream",
          "text": [
            "<class 'pandas.core.frame.DataFrame'>\n",
            "RangeIndex: 50 entries, 0 to 49\n",
            "Data columns (total 7 columns):\n",
            " #   Column        Non-Null Count  Dtype  \n",
            "---  ------        --------------  -----  \n",
            " 0   Borough       50 non-null     object \n",
            " 1   Neighborhood  50 non-null     object \n",
            " 2   ID            50 non-null     object \n",
            " 3   Name          50 non-null     object \n",
            " 4   Likes         50 non-null     object \n",
            " 5   Rating        50 non-null     float64\n",
            " 6   Tips          50 non-null     object \n",
            "dtypes: float64(1), object(6)\n",
            "memory usage: 2.9+ KB\n"
          ],
          "name": "stdout"
        }
      ]
    },
    {
      "cell_type": "markdown",
      "metadata": {
        "id": "3i1s1VmVMgbk"
      },
      "source": [
        "The Data type of 'Likes' and  'Tips' are of type 'String'. we will convert them into type 'Float' for further analysis."
      ]
    },
    {
      "cell_type": "code",
      "metadata": {
        "id": "ij6u4XlEMgbl"
      },
      "source": [
        "thai_rest_stats_ny['Likes']=thai_rest_stats_ny['Likes'].astype('float64')\n",
        "thai_rest_stats_ny['Tips']=thai_rest_stats_ny['Tips'].astype('float64')"
      ],
      "execution_count": 29,
      "outputs": []
    },
    {
      "cell_type": "code",
      "metadata": {
        "id": "lePvG-juMgbm",
        "colab": {
          "base_uri": "https://localhost:8080/"
        },
        "outputId": "a75cf080-3dfe-4d24-c9c9-69d1f59e103a"
      },
      "source": [
        "thai_rest_stats_ny.info()"
      ],
      "execution_count": 30,
      "outputs": [
        {
          "output_type": "stream",
          "text": [
            "<class 'pandas.core.frame.DataFrame'>\n",
            "RangeIndex: 50 entries, 0 to 49\n",
            "Data columns (total 7 columns):\n",
            " #   Column        Non-Null Count  Dtype  \n",
            "---  ------        --------------  -----  \n",
            " 0   Borough       50 non-null     object \n",
            " 1   Neighborhood  50 non-null     object \n",
            " 2   ID            50 non-null     object \n",
            " 3   Name          50 non-null     object \n",
            " 4   Likes         50 non-null     float64\n",
            " 5   Rating        50 non-null     float64\n",
            " 6   Tips          50 non-null     float64\n",
            "dtypes: float64(3), object(4)\n",
            "memory usage: 2.9+ KB\n"
          ],
          "name": "stdout"
        }
      ]
    },
    {
      "cell_type": "markdown",
      "metadata": {
        "id": "jFARhHqeMgbn"
      },
      "source": [
        "Now we will find the Thai restuarants with Maximum Likes, Maximum Ratings and Maximum Tips."
      ]
    },
    {
      "cell_type": "code",
      "metadata": {
        "id": "NZrBmHJYMgbo",
        "colab": {
          "base_uri": "https://localhost:8080/"
        },
        "outputId": "9bff9671-3851-4dfe-c9a1-8aae18be5f63"
      },
      "source": [
        "# Resturant with maximum Likes\n",
        "thai_rest_stats_ny.iloc[thai_rest_stats_ny['Likes'].idxmax()]"
      ],
      "execution_count": 31,
      "outputs": [
        {
          "output_type": "execute_result",
          "data": {
            "text/plain": [
              "Borough                         Brooklyn\n",
              "Neighborhood           East Williamsburg\n",
              "ID              4fc01ea6e4b0e4e80c70cf1d\n",
              "Name                       Sage Brooklyn\n",
              "Likes                                514\n",
              "Rating                               8.3\n",
              "Tips                                 124\n",
              "Name: 44, dtype: object"
            ]
          },
          "metadata": {
            "tags": []
          },
          "execution_count": 31
        }
      ]
    },
    {
      "cell_type": "code",
      "metadata": {
        "id": "CBy0f97wMgbp",
        "colab": {
          "base_uri": "https://localhost:8080/"
        },
        "outputId": "f5157ddc-381f-4a28-fe39-4f6653a43e54"
      },
      "source": [
        "# Resturant with maximum Rating\n",
        "thai_rest_stats_ny.iloc[thai_rest_stats_ny['Rating'].idxmax()]"
      ],
      "execution_count": 32,
      "outputs": [
        {
          "output_type": "execute_result",
          "data": {
            "text/plain": [
              "Borough                        Manhattan\n",
              "Neighborhood                   Chinatown\n",
              "ID              5cc4e9d0c876c8002c3010cb\n",
              "Name                               Wayla\n",
              "Likes                                 54\n",
              "Rating                               9.3\n",
              "Tips                                  32\n",
              "Name: 47, dtype: object"
            ]
          },
          "metadata": {
            "tags": []
          },
          "execution_count": 32
        }
      ]
    },
    {
      "cell_type": "code",
      "metadata": {
        "id": "uNqb1cqNMgbr",
        "colab": {
          "base_uri": "https://localhost:8080/"
        },
        "outputId": "51ee0b9c-d034-4b81-8837-9914c5fcce78"
      },
      "source": [
        "# Resturant with maximum Tips\n",
        "thai_rest_stats_ny.iloc[thai_rest_stats_ny['Tips'].idxmax()]"
      ],
      "execution_count": 33,
      "outputs": [
        {
          "output_type": "execute_result",
          "data": {
            "text/plain": [
              "Borough                         Brooklyn\n",
              "Neighborhood                 Cobble Hill\n",
              "ID              4112ca00f964a520ed0b1fe3\n",
              "Name                                Joya\n",
              "Likes                                318\n",
              "Rating                               7.7\n",
              "Tips                                 158\n",
              "Name: 23, dtype: object"
            ]
          },
          "metadata": {
            "tags": []
          },
          "execution_count": 33
        }
      ]
    },
    {
      "cell_type": "markdown",
      "metadata": {
        "id": "gyoBytuzMgbs"
      },
      "source": [
        "Next lets visualize neighborhood with maximum average rating of resturants."
      ]
    },
    {
      "cell_type": "code",
      "metadata": {
        "id": "HyfsPt_0Mgbs"
      },
      "source": [
        "ny_neighborhood_stats=thai_rest_stats_ny.groupby('Neighborhood',as_index=False).mean()[['Neighborhood','Rating']]\n",
        "ny_neighborhood_stats.columns=['Neighborhood','Average Rating']"
      ],
      "execution_count": 34,
      "outputs": []
    },
    {
      "cell_type": "code",
      "metadata": {
        "id": "kwz4JwOPMgbt",
        "colab": {
          "base_uri": "https://localhost:8080/",
          "height": 343
        },
        "outputId": "3f9ea067-906d-4101-dae9-dea109d33cc6"
      },
      "source": [
        "ny_neighborhood_stats.sort_values(['Average Rating'],ascending=False).head(10)"
      ],
      "execution_count": 35,
      "outputs": [
        {
          "output_type": "execute_result",
          "data": {
            "text/html": [
              "<div>\n",
              "<style scoped>\n",
              "    .dataframe tbody tr th:only-of-type {\n",
              "        vertical-align: middle;\n",
              "    }\n",
              "\n",
              "    .dataframe tbody tr th {\n",
              "        vertical-align: top;\n",
              "    }\n",
              "\n",
              "    .dataframe thead th {\n",
              "        text-align: right;\n",
              "    }\n",
              "</style>\n",
              "<table border=\"1\" class=\"dataframe\">\n",
              "  <thead>\n",
              "    <tr style=\"text-align: right;\">\n",
              "      <th></th>\n",
              "      <th>Neighborhood</th>\n",
              "      <th>Average Rating</th>\n",
              "    </tr>\n",
              "  </thead>\n",
              "  <tbody>\n",
              "    <tr>\n",
              "      <th>5</th>\n",
              "      <td>Chinatown</td>\n",
              "      <td>9.25</td>\n",
              "    </tr>\n",
              "    <tr>\n",
              "      <th>24</th>\n",
              "      <td>Prospect Lefferts Gardens</td>\n",
              "      <td>9.00</td>\n",
              "    </tr>\n",
              "    <tr>\n",
              "      <th>9</th>\n",
              "      <td>Crown Heights</td>\n",
              "      <td>8.70</td>\n",
              "    </tr>\n",
              "    <tr>\n",
              "      <th>10</th>\n",
              "      <td>Downtown</td>\n",
              "      <td>8.60</td>\n",
              "    </tr>\n",
              "    <tr>\n",
              "      <th>1</th>\n",
              "      <td>Boerum Hill</td>\n",
              "      <td>8.60</td>\n",
              "    </tr>\n",
              "    <tr>\n",
              "      <th>26</th>\n",
              "      <td>Red Hook</td>\n",
              "      <td>8.40</td>\n",
              "    </tr>\n",
              "    <tr>\n",
              "      <th>3</th>\n",
              "      <td>Bushwick</td>\n",
              "      <td>8.40</td>\n",
              "    </tr>\n",
              "    <tr>\n",
              "      <th>4</th>\n",
              "      <td>Carroll Gardens</td>\n",
              "      <td>8.30</td>\n",
              "    </tr>\n",
              "    <tr>\n",
              "      <th>12</th>\n",
              "      <td>East Williamsburg</td>\n",
              "      <td>8.30</td>\n",
              "    </tr>\n",
              "    <tr>\n",
              "      <th>16</th>\n",
              "      <td>Gowanus</td>\n",
              "      <td>8.30</td>\n",
              "    </tr>\n",
              "  </tbody>\n",
              "</table>\n",
              "</div>"
            ],
            "text/plain": [
              "                 Neighborhood  Average Rating\n",
              "5                   Chinatown            9.25\n",
              "24  Prospect Lefferts Gardens            9.00\n",
              "9               Crown Heights            8.70\n",
              "10                   Downtown            8.60\n",
              "1                 Boerum Hill            8.60\n",
              "26                   Red Hook            8.40\n",
              "3                    Bushwick            8.40\n",
              "4             Carroll Gardens            8.30\n",
              "12          East Williamsburg            8.30\n",
              "16                    Gowanus            8.30"
            ]
          },
          "metadata": {
            "tags": []
          },
          "execution_count": 35
        }
      ]
    },
    {
      "cell_type": "markdown",
      "metadata": {
        "id": "CQYs20tOMgbu"
      },
      "source": [
        "### Above are the top neighborhoods with top average rating of Thai resturants."
      ]
    },
    {
      "cell_type": "markdown",
      "metadata": {
        "id": "-Kg59DCZMgbv"
      },
      "source": [
        "Similarly we will find the average rating of Thai Resturants for each Borough."
      ]
    },
    {
      "cell_type": "code",
      "metadata": {
        "id": "uh9bewLCMgbw"
      },
      "source": [
        "ny_borough_stats=thai_rest_stats_ny.groupby('Borough',as_index=False).mean()[['Borough','Rating']]\n",
        "ny_borough_stats.columns=['Borough','Average Rating']"
      ],
      "execution_count": 36,
      "outputs": []
    },
    {
      "cell_type": "code",
      "metadata": {
        "id": "YbQa6rIKMgbx",
        "colab": {
          "base_uri": "https://localhost:8080/",
          "height": 136
        },
        "outputId": "f8ae136e-8efe-4ee1-d529-3afbfd157220"
      },
      "source": [
        "ny_borough_stats.sort_values(['Average Rating'],ascending=False).head()"
      ],
      "execution_count": 37,
      "outputs": [
        {
          "output_type": "execute_result",
          "data": {
            "text/html": [
              "<div>\n",
              "<style scoped>\n",
              "    .dataframe tbody tr th:only-of-type {\n",
              "        vertical-align: middle;\n",
              "    }\n",
              "\n",
              "    .dataframe tbody tr th {\n",
              "        vertical-align: top;\n",
              "    }\n",
              "\n",
              "    .dataframe thead th {\n",
              "        text-align: right;\n",
              "    }\n",
              "</style>\n",
              "<table border=\"1\" class=\"dataframe\">\n",
              "  <thead>\n",
              "    <tr style=\"text-align: right;\">\n",
              "      <th></th>\n",
              "      <th>Borough</th>\n",
              "      <th>Average Rating</th>\n",
              "    </tr>\n",
              "  </thead>\n",
              "  <tbody>\n",
              "    <tr>\n",
              "      <th>2</th>\n",
              "      <td>Manhattan</td>\n",
              "      <td>8.125000</td>\n",
              "    </tr>\n",
              "    <tr>\n",
              "      <th>1</th>\n",
              "      <td>Brooklyn</td>\n",
              "      <td>8.002500</td>\n",
              "    </tr>\n",
              "    <tr>\n",
              "      <th>0</th>\n",
              "      <td>Bronx</td>\n",
              "      <td>5.966667</td>\n",
              "    </tr>\n",
              "  </tbody>\n",
              "</table>\n",
              "</div>"
            ],
            "text/plain": [
              "     Borough  Average Rating\n",
              "2  Manhattan        8.125000\n",
              "1   Brooklyn        8.002500\n",
              "0      Bronx        5.966667"
            ]
          },
          "metadata": {
            "tags": []
          },
          "execution_count": 37
        }
      ]
    },
    {
      "cell_type": "markdown",
      "metadata": {
        "id": "-7hxbjvRMgby"
      },
      "source": [
        "Lets Visualize it."
      ]
    },
    {
      "cell_type": "code",
      "metadata": {
        "id": "Fe5RHWcHMgby",
        "colab": {
          "base_uri": "https://localhost:8080/",
          "height": 547
        },
        "outputId": "6089ee87-863c-4b6b-e433-19dc00893bba"
      },
      "source": [
        "plt.figure(figsize=(9,5), dpi = 100)\n",
        "# title\n",
        "plt.title('Average rating of Thai Resturants for each Borough')\n",
        "#On x-axis\n",
        "plt.xlabel('Borough', fontsize = 15)\n",
        "#On y-axis\n",
        "plt.ylabel('Average Rating', fontsize=15)\n",
        "#giving a bar plot\n",
        "thai_rest_stats_ny.groupby('Borough').mean()['Rating'].plot(kind='bar')\n",
        "#legend\n",
        "plt.legend()\n",
        "#displays the plot\n",
        "plt.show()"
      ],
      "execution_count": 38,
      "outputs": [
        {
          "output_type": "display_data",
          "data": {
            "image/png": "[encoded data removed]",
            "text/plain": [
              "<Figure size 900x500 with 1 Axes>"
            ]
          },
          "metadata": {
            "tags": [],
            "needs_background": "light"
          }
        }
      ]
    },
    {
      "cell_type": "markdown",
      "metadata": {
        "id": "gBMbvOOdMgb0"
      },
      "source": [
        "We will consider all the neighborhoods with average rating greater or equal 9.0 to visualize on map."
      ]
    },
    {
      "cell_type": "code",
      "metadata": {
        "id": "_dJoGXPwMgb0"
      },
      "source": [
        "ny_neighborhood_stats=ny_neighborhood_stats[ny_neighborhood_stats['Average Rating']>=9.0]"
      ],
      "execution_count": 39,
      "outputs": []
    },
    {
      "cell_type": "code",
      "metadata": {
        "id": "A7SsPoz4Mgb1",
        "colab": {
          "base_uri": "https://localhost:8080/",
          "height": 106
        },
        "outputId": "ffafdb76-ab9d-4667-9d84-d3a1c25251b9"
      },
      "source": [
        "ny_neighborhood_stats"
      ],
      "execution_count": 40,
      "outputs": [
        {
          "output_type": "execute_result",
          "data": {
            "text/html": [
              "<div>\n",
              "<style scoped>\n",
              "    .dataframe tbody tr th:only-of-type {\n",
              "        vertical-align: middle;\n",
              "    }\n",
              "\n",
              "    .dataframe tbody tr th {\n",
              "        vertical-align: top;\n",
              "    }\n",
              "\n",
              "    .dataframe thead th {\n",
              "        text-align: right;\n",
              "    }\n",
              "</style>\n",
              "<table border=\"1\" class=\"dataframe\">\n",
              "  <thead>\n",
              "    <tr style=\"text-align: right;\">\n",
              "      <th></th>\n",
              "      <th>Neighborhood</th>\n",
              "      <th>Average Rating</th>\n",
              "    </tr>\n",
              "  </thead>\n",
              "  <tbody>\n",
              "    <tr>\n",
              "      <th>5</th>\n",
              "      <td>Chinatown</td>\n",
              "      <td>9.25</td>\n",
              "    </tr>\n",
              "    <tr>\n",
              "      <th>24</th>\n",
              "      <td>Prospect Lefferts Gardens</td>\n",
              "      <td>9.00</td>\n",
              "    </tr>\n",
              "  </tbody>\n",
              "</table>\n",
              "</div>"
            ],
            "text/plain": [
              "                 Neighborhood  Average Rating\n",
              "5                   Chinatown            9.25\n",
              "24  Prospect Lefferts Gardens            9.00"
            ]
          },
          "metadata": {
            "tags": []
          },
          "execution_count": 40
        }
      ]
    },
    {
      "cell_type": "markdown",
      "metadata": {
        "id": "2d-tVC6KMgb2"
      },
      "source": [
        "We will join this dataset to original new york data to get lonitude and latitude."
      ]
    },
    {
      "cell_type": "code",
      "metadata": {
        "id": "dxEV99eQMgb3"
      },
      "source": [
        "ny_neighborhood_stats=pd.merge(ny_neighborhood_stats,new_york_data, on='Neighborhood')"
      ],
      "execution_count": 41,
      "outputs": []
    },
    {
      "cell_type": "code",
      "metadata": {
        "id": "nxKjBKKVMgb3"
      },
      "source": [
        "ny_neighborhood_stats=ny_neighborhood_stats[['Borough','Neighborhood','Latitude','Longitude','Average Rating']]"
      ],
      "execution_count": 42,
      "outputs": []
    },
    {
      "cell_type": "code",
      "metadata": {
        "id": "yqO1gRedMgb4",
        "colab": {
          "base_uri": "https://localhost:8080/",
          "height": 106
        },
        "outputId": "26b30e14-49ba-40c3-8439-11e95040a8f9"
      },
      "source": [
        "ny_neighborhood_stats"
      ],
      "execution_count": 43,
      "outputs": [
        {
          "output_type": "execute_result",
          "data": {
            "text/html": [
              "<div>\n",
              "<style scoped>\n",
              "    .dataframe tbody tr th:only-of-type {\n",
              "        vertical-align: middle;\n",
              "    }\n",
              "\n",
              "    .dataframe tbody tr th {\n",
              "        vertical-align: top;\n",
              "    }\n",
              "\n",
              "    .dataframe thead th {\n",
              "        text-align: right;\n",
              "    }\n",
              "</style>\n",
              "<table border=\"1\" class=\"dataframe\">\n",
              "  <thead>\n",
              "    <tr style=\"text-align: right;\">\n",
              "      <th></th>\n",
              "      <th>Borough</th>\n",
              "      <th>Neighborhood</th>\n",
              "      <th>Latitude</th>\n",
              "      <th>Longitude</th>\n",
              "      <th>Average Rating</th>\n",
              "    </tr>\n",
              "  </thead>\n",
              "  <tbody>\n",
              "    <tr>\n",
              "      <th>0</th>\n",
              "      <td>Manhattan</td>\n",
              "      <td>Chinatown</td>\n",
              "      <td>40.715618</td>\n",
              "      <td>-73.994279</td>\n",
              "      <td>9.25</td>\n",
              "    </tr>\n",
              "    <tr>\n",
              "      <th>1</th>\n",
              "      <td>Brooklyn</td>\n",
              "      <td>Prospect Lefferts Gardens</td>\n",
              "      <td>40.658420</td>\n",
              "      <td>-73.954899</td>\n",
              "      <td>9.00</td>\n",
              "    </tr>\n",
              "  </tbody>\n",
              "</table>\n",
              "</div>"
            ],
            "text/plain": [
              "     Borough               Neighborhood   Latitude  Longitude  Average Rating\n",
              "0  Manhattan                  Chinatown  40.715618 -73.994279            9.25\n",
              "1   Brooklyn  Prospect Lefferts Gardens  40.658420 -73.954899            9.00"
            ]
          },
          "metadata": {
            "tags": []
          },
          "execution_count": 43
        }
      ]
    },
    {
      "cell_type": "markdown",
      "metadata": {
        "id": "mb8MVDktMgb5"
      },
      "source": [
        "Finally, Let's show this data on a map."
      ]
    },
    {
      "cell_type": "code",
      "metadata": {
        "id": "v1Ym65FmMgb6"
      },
      "source": [
        "ny_map = folium.Map(location=geo_location('New York'), zoom_start=12)"
      ],
      "execution_count": 44,
      "outputs": []
    },
    {
      "cell_type": "code",
      "metadata": {
        "id": "8HNJfKtwMgb6"
      },
      "source": [
        "# instantiate a feature group for the incidents in the dataframe\n",
        "incidents = folium.map.FeatureGroup()\n",
        "\n",
        "# loop through the neighborhood and add each to the feature group\n",
        "for lat, lng, in ny_neighborhood_stats[['Latitude','Longitude']].values:\n",
        "    incidents.add_child(\n",
        "        folium.CircleMarker(\n",
        "            [lat, lng],\n",
        "            radius=10, # define how big you want the circle markers to be\n",
        "            color='yellow',\n",
        "            fill=True,\n",
        "            fill_color='blue',\n",
        "            fill_opacity=0.6\n",
        "        )\n",
        "    )"
      ],
      "execution_count": 45,
      "outputs": []
    },
    {
      "cell_type": "markdown",
      "metadata": {
        "id": "C_TgBjq8Mgb7"
      },
      "source": [
        "Lets add a new field to dataframe for labeling purpose."
      ]
    },
    {
      "cell_type": "code",
      "metadata": {
        "id": "WdQ_VJR3Mgb8"
      },
      "source": [
        "ny_neighborhood_stats['Label']=ny_neighborhood_stats['Neighborhood']+', '+ny_neighborhood_stats['Borough']+'('+ny_neighborhood_stats['Average Rating'].map(str)+')'"
      ],
      "execution_count": 46,
      "outputs": []
    },
    {
      "cell_type": "code",
      "metadata": {
        "id": "Y7Uy-aP1Mgb9",
        "colab": {
          "base_uri": "https://localhost:8080/",
          "height": 866
        },
        "outputId": "fd46c0df-c3c8-44f6-8986-f8d2f7ee570a"
      },
      "source": [
        "# add pop-up text to each marker on the map\n",
        "for lat, lng, label in ny_neighborhood_stats[['Latitude','Longitude','Label']].values:\n",
        "    folium.Marker([lat, lng], popup=label).add_to(ny_map)        \n",
        "# add incidents to map\n",
        "ny_map.add_child(incidents)"
      ],
      "execution_count": 47,
      "outputs": [
        {
          "output_type": "execute_result",
          "data": {
            "text/html": [
              "<div style=\"width:100%;\"><div style=\"position:relative;width:100%;height:0;padding-bottom:60%;\"><span style=\"color:#565656\">Make this Notebook Trusted to load map: File -> Trust Notebook</span><iframe src=\"about:blank\" style=\"position:absolute;width:100%;height:100%;left:0;top:0;border:none !important;\" data-html=%3C%21DOCTYPE%20html%3E%0A%3Chead%3E%20%20%20%20%0A%20%20%20%20%3Cmeta%20http-equiv%3D%22content-type%22%20content%3D%22text/html%3B%20charset%3DUTF-8%22%20/%3E%0A%20%20%20%20%3Cscript%3EL_PREFER_CANVAS%3Dfalse%3B%20L_NO_TOUCH%3Dfalse%3B%20L_DISABLE_3D%3Dfalse%3B%3C/script%3E%0A%20%20%20%20%3Cscript%20src%3D%22https%3A//cdn.jsdelivr.net/npm/leaflet%401.4.0/dist/leaflet.js%22%3E%3C/script%3E%0A%20%20%20%20%3Cscript%20src%3D%22https%3A//code.jquery.com/jquery-1.12.4.min.js%22%3E%3C/script%3E%0A%20%20%20%20%3Cscript%20src%3D%22https%3A//maxcdn.bootstrapcdn.com/bootstrap/3.2.0/js/bootstrap.min.js%22%3E%3C/script%3E%0A%20%20%20%20%3Cscript%20src%3D%22https%3A//cdnjs.cloudflare.com/ajax/libs/Leaflet.awesome-markers/2.0.2/leaflet.awesome-markers.js%22%3E%3C/script%3E%0A%20%20%20%20%3Clink%20rel%3D%22stylesheet%22%20href%3D%22https%3A//cdn.jsdelivr.net/npm/leaflet%401.4.0/dist/leaflet.css%22/%3E%0A%20%20%20%20%3Clink%20rel%3D%22stylesheet%22%20href%3D%22https%3A//maxcdn.bootstrapcdn.com/bootstrap/3.2.0/css/bootstrap.min.css%22/%3E%0A%20%20%20%20%3Clink%20rel%3D%22stylesheet%22%20href%3D%22https%3A//maxcdn.bootstrapcdn.com/bootstrap/3.2.0/css/bootstrap-theme.min.css%22/%3E%0A%20%20%20%20%3Clink%20rel%3D%22stylesheet%22%20href%3D%22https%3A//maxcdn.bootstrapcdn.com/font-awesome/4.6.3/css/font-awesome.min.css%22/%3E%0A%20%20%20%20%3Clink%20rel%3D%22stylesheet%22%20href%3D%22https%3A//cdnjs.cloudflare.com/ajax/libs/Leaflet.awesome-markers/2.0.2/leaflet.awesome-markers.css%22/%3E%0A%20%20%20%20%3Clink%20rel%3D%22stylesheet%22%20href%3D%22https%3A//rawcdn.githack.com/python-visualization/folium/master/folium/templates/leaflet.awesome.rotate.css%22/%3E%0A%20%20%20%20%3Cstyle%3Ehtml%2C%20body%20%7Bwidth%3A%20100%25%3Bheight%3A%20100%25%3Bmargin%3A%200%3Bpadding%3A%200%3B%7D%3C/style%3E%0A%20%20%20%20%3Cstyle%3E%23map%20%7Bposition%3Aabsolute%3Btop%3A0%3Bbottom%3A0%3Bright%3A0%3Bleft%3A0%3B%7D%3C/style%3E%0A%20%20%20%20%0A%20%20%20%20%3Cmeta%20name%3D%22viewport%22%20content%3D%22width%3Ddevice-width%2C%0A%20%20%20%20%20%20%20%20initial-scale%3D1.0%2C%20maximum-scale%3D1.0%2C%20user-scalable%3Dno%22%20/%3E%0A%20%20%20%20%3Cstyle%3E%23map_46f4f1b7df7f48db929887f9f596a68f%20%7B%0A%20%20%20%20%20%20%20%20position%3A%20relative%3B%0A%20%20%20%20%20%20%20%20width%3A%20100.0%25%3B%0A%20%20%20%20%20%20%20%20height%3A%20100.0%25%3B%0A%20%20%20%20%20%20%20%20left%3A%200.0%25%3B%0A%20%20%20%20%20%20%20%20top%3A%200.0%25%3B%0A%20%20%20%20%20%20%20%20%7D%0A%20%20%20%20%3C/style%3E%0A%3C/head%3E%0A%3Cbody%3E%20%20%20%20%0A%20%20%20%20%0A%20%20%20%20%3Cdiv%20class%3D%22folium-map%22%20id%3D%22map_46f4f1b7df7f48db929887f9f596a68f%22%20%3E%3C/div%3E%0A%3C/body%3E%0A%3Cscript%3E%20%20%20%20%0A%20%20%20%20%0A%20%20%20%20%0A%20%20%20%20%20%20%20%20var%20bounds%20%3D%20null%3B%0A%20%20%20%20%0A%0A%20%20%20%20var%20map_46f4f1b7df7f48db929887f9f596a68f%20%3D%20L.map%28%0A%20%20%20%20%20%20%20%20%27map_46f4f1b7df7f48db929887f9f596a68f%27%2C%20%7B%0A%20%20%20%20%20%20%20%20center%3A%20%5B40.7127281%2C%20-74.0060152%5D%2C%0A%20%20%20%20%20%20%20%20zoom%3A%2012%2C%0A%20%20%20%20%20%20%20%20maxBounds%3A%20bounds%2C%0A%20%20%20%20%20%20%20%20layers%3A%20%5B%5D%2C%0A%20%20%20%20%20%20%20%20worldCopyJump%3A%20false%2C%0A%20%20%20%20%20%20%20%20crs%3A%20L.CRS.EPSG3857%2C%0A%20%20%20%20%20%20%20%20zoomControl%3A%20true%2C%0A%20%20%20%20%20%20%20%20%7D%29%3B%0A%0A%0A%20%20%20%20%0A%20%20%20%20var%20tile_layer_20fe5a312d994236b47adc1a8e7c8df3%20%3D%20L.tileLayer%28%0A%20%20%20%20%20%20%20%20%27https%3A//%7Bs%7D.tile.openstreetmap.org/%7Bz%7D/%7Bx%7D/%7By%7D.png%27%2C%0A%20%20%20%20%20%20%20%20%7B%0A%20%20%20%20%20%20%20%20%22attribution%22%3A%20null%2C%0A%20%20%20%20%20%20%20%20%22detectRetina%22%3A%20false%2C%0A%20%20%20%20%20%20%20%20%22maxNativeZoom%22%3A%2018%2C%0A%20%20%20%20%20%20%20%20%22maxZoom%22%3A%2018%2C%0A%20%20%20%20%20%20%20%20%22minZoom%22%3A%200%2C%0A%20%20%20%20%20%20%20%20%22noWrap%22%3A%20false%2C%0A%20%20%20%20%20%20%20%20%22opacity%22%3A%201%2C%0A%20%20%20%20%20%20%20%20%22subdomains%22%3A%20%22abc%22%2C%0A%20%20%20%20%20%20%20%20%22tms%22%3A%20false%0A%7D%29.addTo%28map_46f4f1b7df7f48db929887f9f596a68f%29%3B%0A%20%20%20%20%0A%20%20%20%20%20%20%20%20var%20marker_01eb90f125034dff96a1dca916146310%20%3D%20L.marker%28%0A%20%20%20%20%20%20%20%20%20%20%20%20%5B40.71561842231432%2C%20-73.99427936255978%5D%2C%0A%20%20%20%20%20%20%20%20%20%20%20%20%7B%0A%20%20%20%20%20%20%20%20%20%20%20%20%20%20%20%20icon%3A%20new%20L.Icon.Default%28%29%2C%0A%20%20%20%20%20%20%20%20%20%20%20%20%20%20%20%20%7D%0A%20%20%20%20%20%20%20%20%20%20%20%20%29.addTo%28map_46f4f1b7df7f48db929887f9f596a68f%29%3B%0A%20%20%20%20%20%20%20%20%0A%20%20%20%20%0A%20%20%20%20%20%20%20%20%20%20%20%20var%20popup_4be05e9dc996422b9da1d02085a108c1%20%3D%20L.popup%28%7BmaxWidth%3A%20%27100%25%27%0A%20%20%20%20%20%20%20%20%20%20%20%20%0A%20%20%20%20%20%20%20%20%20%20%20%20%7D%29%3B%0A%0A%20%20%20%20%20%20%20%20%20%20%20%20%0A%20%20%20%20%20%20%20%20%20%20%20%20%20%20%20%20var%20html_ed6220fc3ff244a9b5576659a89a2969%20%3D%20%24%28%60%3Cdiv%20id%3D%22html_ed6220fc3ff244a9b5576659a89a2969%22%20style%3D%22width%3A%20100.0%25%3B%20height%3A%20100.0%25%3B%22%3EChinatown%2C%20Manhattan%289.25%29%3C/div%3E%60%29%5B0%5D%3B%0A%20%20%20%20%20%20%20%20%20%20%20%20%20%20%20%20popup_4be05e9dc996422b9da1d02085a108c1.setContent%28html_ed6220fc3ff244a9b5576659a89a2969%29%3B%0A%20%20%20%20%20%20%20%20%20%20%20%20%0A%0A%20%20%20%20%20%20%20%20%20%20%20%20marker_01eb90f125034dff96a1dca916146310.bindPopup%28popup_4be05e9dc996422b9da1d02085a108c1%29%0A%20%20%20%20%20%20%20%20%20%20%20%20%3B%0A%0A%20%20%20%20%20%20%20%20%20%20%20%20%0A%20%20%20%20%20%20%20%20%0A%20%20%20%20%0A%20%20%20%20%20%20%20%20var%20marker_cf9c20b2df4f402580595ccfae6957e7%20%3D%20L.marker%28%0A%20%20%20%20%20%20%20%20%20%20%20%20%5B40.658420017469815%2C%20-73.95489867077713%5D%2C%0A%20%20%20%20%20%20%20%20%20%20%20%20%7B%0A%20%20%20%20%20%20%20%20%20%20%20%20%20%20%20%20icon%3A%20new%20L.Icon.Default%28%29%2C%0A%20%20%20%20%20%20%20%20%20%20%20%20%20%20%20%20%7D%0A%20%20%20%20%20%20%20%20%20%20%20%20%29.addTo%28map_46f4f1b7df7f48db929887f9f596a68f%29%3B%0A%20%20%20%20%20%20%20%20%0A%20%20%20%20%0A%20%20%20%20%20%20%20%20%20%20%20%20var%20popup_5992423e4efe43bf81de83ebaec5260e%20%3D%20L.popup%28%7BmaxWidth%3A%20%27100%25%27%0A%20%20%20%20%20%20%20%20%20%20%20%20%0A%20%20%20%20%20%20%20%20%20%20%20%20%7D%29%3B%0A%0A%20%20%20%20%20%20%20%20%20%20%20%20%0A%20%20%20%20%20%20%20%20%20%20%20%20%20%20%20%20var%20html_34354d3dd55a43c7be49b6f2f72fe8e3%20%3D%20%24%28%60%3Cdiv%20id%3D%22html_34354d3dd55a43c7be49b6f2f72fe8e3%22%20style%3D%22width%3A%20100.0%25%3B%20height%3A%20100.0%25%3B%22%3EProspect%20Lefferts%20Gardens%2C%20Brooklyn%289.0%29%3C/div%3E%60%29%5B0%5D%3B%0A%20%20%20%20%20%20%20%20%20%20%20%20%20%20%20%20popup_5992423e4efe43bf81de83ebaec5260e.setContent%28html_34354d3dd55a43c7be49b6f2f72fe8e3%29%3B%0A%20%20%20%20%20%20%20%20%20%20%20%20%0A%0A%20%20%20%20%20%20%20%20%20%20%20%20marker_cf9c20b2df4f402580595ccfae6957e7.bindPopup%28popup_5992423e4efe43bf81de83ebaec5260e%29%0A%20%20%20%20%20%20%20%20%20%20%20%20%3B%0A%0A%20%20%20%20%20%20%20%20%20%20%20%20%0A%20%20%20%20%20%20%20%20%0A%20%20%20%20%0A%20%20%20%20%20%20%20%20%20%20%20%20var%20feature_group_f60a2a572a2d4c748b8e35eaadae25f2%20%3D%20L.featureGroup%28%0A%20%20%20%20%20%20%20%20%20%20%20%20%20%20%20%20%29.addTo%28map_46f4f1b7df7f48db929887f9f596a68f%29%3B%0A%20%20%20%20%20%20%20%20%0A%20%20%20%20%0A%20%20%20%20%20%20%20%20%20%20%20%20var%20circle_marker_7519b27a9075493db1b633e2cf6ddc3e%20%3D%20L.circleMarker%28%0A%20%20%20%20%20%20%20%20%20%20%20%20%20%20%20%20%5B40.71561842231432%2C%20-73.99427936255978%5D%2C%0A%20%20%20%20%20%20%20%20%20%20%20%20%20%20%20%20%7B%0A%20%20%22bubblingMouseEvents%22%3A%20true%2C%0A%20%20%22color%22%3A%20%22yellow%22%2C%0A%20%20%22dashArray%22%3A%20null%2C%0A%20%20%22dashOffset%22%3A%20null%2C%0A%20%20%22fill%22%3A%20true%2C%0A%20%20%22fillColor%22%3A%20%22blue%22%2C%0A%20%20%22fillOpacity%22%3A%200.6%2C%0A%20%20%22fillRule%22%3A%20%22evenodd%22%2C%0A%20%20%22lineCap%22%3A%20%22round%22%2C%0A%20%20%22lineJoin%22%3A%20%22round%22%2C%0A%20%20%22opacity%22%3A%201.0%2C%0A%20%20%22radius%22%3A%2010%2C%0A%20%20%22stroke%22%3A%20true%2C%0A%20%20%22weight%22%3A%203%0A%7D%0A%20%20%20%20%20%20%20%20%20%20%20%20%20%20%20%20%29%0A%20%20%20%20%20%20%20%20%20%20%20%20%20%20%20%20.addTo%28feature_group_f60a2a572a2d4c748b8e35eaadae25f2%29%3B%0A%20%20%20%20%20%20%20%20%20%20%20%20%0A%20%20%20%20%0A%20%20%20%20%20%20%20%20%20%20%20%20var%20circle_marker_6969c72ce0474625aeb8d6e632623c14%20%3D%20L.circleMarker%28%0A%20%20%20%20%20%20%20%20%20%20%20%20%20%20%20%20%5B40.658420017469815%2C%20-73.95489867077713%5D%2C%0A%20%20%20%20%20%20%20%20%20%20%20%20%20%20%20%20%7B%0A%20%20%22bubblingMouseEvents%22%3A%20true%2C%0A%20%20%22color%22%3A%20%22yellow%22%2C%0A%20%20%22dashArray%22%3A%20null%2C%0A%20%20%22dashOffset%22%3A%20null%2C%0A%20%20%22fill%22%3A%20true%2C%0A%20%20%22fillColor%22%3A%20%22blue%22%2C%0A%20%20%22fillOpacity%22%3A%200.6%2C%0A%20%20%22fillRule%22%3A%20%22evenodd%22%2C%0A%20%20%22lineCap%22%3A%20%22round%22%2C%0A%20%20%22lineJoin%22%3A%20%22round%22%2C%0A%20%20%22opacity%22%3A%201.0%2C%0A%20%20%22radius%22%3A%2010%2C%0A%20%20%22stroke%22%3A%20true%2C%0A%20%20%22weight%22%3A%203%0A%7D%0A%20%20%20%20%20%20%20%20%20%20%20%20%20%20%20%20%29%0A%20%20%20%20%20%20%20%20%20%20%20%20%20%20%20%20.addTo%28feature_group_f60a2a572a2d4c748b8e35eaadae25f2%29%3B%0A%20%20%20%20%20%20%20%20%20%20%20%20%0A%3C/script%3E onload=\"this.contentDocument.open();this.contentDocument.write(    decodeURIComponent(this.getAttribute('data-html')));this.contentDocument.close();\" allowfullscreen webkitallowfullscreen mozallowfullscreen></iframe></div></div>"
            ],
            "text/plain": [
              "<folium.folium.Map at 0x7f35da473310>"
            ]
          },
          "metadata": {
            "tags": []
          },
          "execution_count": 47
        }
      ]
    },
    {
      "cell_type": "markdown",
      "metadata": {
        "id": "bRJrHndJMgb-"
      },
      "source": [
        "Now that we have visualized the Neighborhoods.\n",
        "Lets Visualize Boroughs based on average Rating."
      ]
    },
    {
      "cell_type": "code",
      "metadata": {
        "id": "XwVJWFqfMgb-"
      },
      "source": [
        "ny_map = folium.Map(location=geo_location('New York'), zoom_start=12)\n",
        "ny_geo = r'Borough_Boundaries.geojson'\n",
        "\n",
        "map = ny_map.choropleth(\n",
        "    geo_data=ny_geo,\n",
        "    data=ny_borough_stats,\n",
        "    columns=['Borough', 'Average Rating'],\n",
        "    key_on='feature.properties.boro_name',\n",
        "    fill_color='YlOrRd', \n",
        "    fill_opacity=0.7, \n",
        "    line_opacity=0.2,\n",
        "    legend_name='Average Rating'\n",
        ")\n",
        "\n",
        "# display map\n",
        "# as this is huge map data , we will save it to a file\n",
        "ny_map.save('borough_rating.html')"
      ],
      "execution_count": null,
      "outputs": []
    },
    {
      "cell_type": "markdown",
      "metadata": {
        "id": "DmmDpgNuMgb_"
      },
      "source": [
        "# Conclusion:"
      ]
    },
    {
      "cell_type": "markdown",
      "metadata": {
        "id": "edPzfOsvMgcA"
      },
      "source": [
        "### So now we can answer the questions asked above in the Questions section of the notebook.\n",
        "### From our anaysis the answers to the above questions are:"
      ]
    },
    {
      "cell_type": "markdown",
      "metadata": {
        "id": "nvHMqjM7MgcB"
      },
      "source": [
        "#### A1) Chinatown (Manhattan), Prospect Lefferts Garden (Brooklyn) are the best neighborhoods for Thai cuisine.\n",
        "#### A2) Manhattan have potential Thai Resturant Market.\n",
        "#### A3) Gowanus ranks last in average rating of Thai Resturants.\n",
        "#### A4) Manhattan is the best place to stay if you prefer Thai Cuisine."
      ]
    }
  ]
}